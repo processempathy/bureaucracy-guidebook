{
 "cells": [
  {
   "cell_type": "markdown",
   "id": "06688f2a-de7c-41c9-a8ab-f5b00359b8bf",
   "metadata": {},
   "source": [
    "# Numerical model of bureaucracy - object oriented"
   ]
  },
  {
   "cell_type": "code",
   "execution_count": 2,
   "id": "a7eaed8e-039b-469a-b0f5-825eaadb4dfe",
   "metadata": {},
   "outputs": [],
   "source": [
    "class person():\n",
    "    # Each person has a skill/specialization matrix\n",
    "    # each person has status of idle/working/coordinating\n",
    "    def __init__(self, unique_id):\n",
    "        self.unique_id = unique_id"
   ]
  },
  {
   "cell_type": "code",
   "execution_count": null,
   "id": "ac63eff1-456d-4a90-ab4b-178d436666c0",
   "metadata": {},
   "outputs": [],
   "source": [
    "class process():\n",
    "    # each process has a sequence of tasks\n",
    "    # each task has a skill, specicalization, duration\n",
    "    # task is either completed, active, or waiting\n",
    "    \n",
    "    def __init__(self, unique_id):\n",
    "        self.unique_id = unique_id"
   ]
  }
 ],
 "metadata": {
  "kernelspec": {
   "display_name": "Python 3 (ipykernel)",
   "language": "python",
   "name": "python3"
  },
  "language_info": {
   "codemirror_mode": {
    "name": "ipython",
    "version": 3
   },
   "file_extension": ".py",
   "mimetype": "text/x-python",
   "name": "python",
   "nbconvert_exporter": "python",
   "pygments_lexer": "ipython3",
   "version": "3.10.8"
  }
 },
 "nbformat": 4,
 "nbformat_minor": 5
}
