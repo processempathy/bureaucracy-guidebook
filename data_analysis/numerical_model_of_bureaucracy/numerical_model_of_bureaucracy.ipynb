{
 "cells": [
  {
   "cell_type": "markdown",
   "id": "e12a8b7f-2fa1-40e9-a894-1b14a184bf83",
   "metadata": {},
   "source": [
    "# Numerical model of bureaucracy\n",
    "\n",
    "https://en.wikipedia.org/wiki/Agent-based_model\n",
    "\n",
    "This model relies on\n",
    "* people (with time, specializations, and skills) who are part of an organization\n",
    "* processes (comprised of a sequence of tasks)\n",
    "  * tasks are characterized by specialization, skill, and duration)\n",
    "  \n",
    "This model has no management roles involved in coordination.\n",
    "  \n",
    "Similar work:\n",
    "* https://www.nature.com/articles/news.2008.1050 and https://arxiv.org/abs/0804.2202"
   ]
  },
  {
   "cell_type": "code",
   "execution_count": 1,
   "id": "0a9b60af-47a0-405f-b7e0-c98dde714d9b",
   "metadata": {},
   "outputs": [],
   "source": [
    "import random"
   ]
  },
  {
   "cell_type": "markdown",
   "id": "2f807885-9a0b-4316-bfef-21fdd3dfbfa9",
   "metadata": {},
   "source": [
    "## Process model\n",
    "\n",
    "*Definition*: A process is a sequence of tasks.\n",
    "\n",
    "*simplifying assumption*: task dependency is linear sequence (not a tree)\n",
    "\n",
    "*simplifying assumption*: processes are independent\n",
    "\n",
    "Each task has three characteristics:\n",
    "* specialization: a categorical variable like A or B or C\n",
    "* skill level: a positive scalar value like 1 or 2 or 3. Lower value = less skilled; higher value = more skilled\n",
    "* duration in minutes: a positive scalar value\n",
    "\n",
    "A simple process is a sequence of few tasks, and each task does not require significant specialization.\n",
    "\n",
    "A complex process is a sequence of many tasks, and each task requires specialized skills, and the number of distinct specializations is high."
   ]
  },
  {
   "cell_type": "code",
   "execution_count": 2,
   "id": "5dc8f5d1-a6f7-4fef-9484-ff9e2aa8d604",
   "metadata": {},
   "outputs": [],
   "source": [
    "process_example = [{'specialization': 'A', 'skill level': 1, 'duration in minutes': 20},\n",
    "                   {'specialization': 'B', 'skill level': 2, 'duration in minutes':  5},\n",
    "                   {'specialization': 'A', 'skill level': 1, 'duration in minutes': 10},\n",
    "                   {'specialization': 'C', 'skill level': 3, 'duration in minutes':  5}]"
   ]
  },
  {
   "cell_type": "markdown",
   "id": "0d8afb2b-7959-4e88-aefe-fae54fe55dd3",
   "metadata": {},
   "source": [
    "## Person model\n",
    "\n",
    "*constraint*: Each person has 40 hours per week available for tasks.\n",
    "\n",
    "Each person maintains a backlog of work.\n",
    "\n",
    "Characterizing a person involves both specializations (A,B,C) and skill per specialization. For example,\n",
    "\n",
    "| skill level |   A |   B |   C |\n",
    "|         --- | --- | --- | --- |\n",
    "|           1 |   X |   X |     |\n",
    "|           2 |     |   X |     |\n",
    "|           3 |     |     |     |"
   ]
  },
  {
   "cell_type": "code",
   "execution_count": 3,
   "id": "a5f9d9cb-be90-4fa4-8618-77009ea8ade9",
   "metadata": {},
   "outputs": [],
   "source": [
    "# data structure for a person's specializations and skill-level per specialization\n",
    "\n",
    "person_example = [{'specialization': 'A', 'skill level': 1},\n",
    "                  {'specialization': 'B', 'skill level': 2},\n",
    "                  {'specialization': 'C', 'skill level': 0}]\n",
    "\n",
    "# There are other equivalent representations available, like [('A',1),('B',2),('C',0)] "
   ]
  },
  {
   "cell_type": "markdown",
   "id": "1099fecb-802b-41b6-ae99-bd46b90f183e",
   "metadata": {},
   "source": [
    "**narrow specialist** is good at one thing:\n",
    "\n",
    "| skill level |   A |   B |   C |\n",
    "|         --- | --- | --- | --- |\n",
    "|           1 |     |   X |     |\n",
    "|           2 |     |   X |     |\n",
    "|           3 |     |   X |     |"
   ]
  },
  {
   "cell_type": "code",
   "execution_count": 4,
   "id": "98336044-1778-48a5-9e34-9ba60ae3acd8",
   "metadata": {},
   "outputs": [],
   "source": [
    "narrow_specialist = [{'specialization': 'A', 'skill level': 0},\n",
    "                     {'specialization': 'B', 'skill level': 3},\n",
    "                     {'specialization': 'C', 'skill level': 0}]"
   ]
  },
  {
   "cell_type": "markdown",
   "id": "10ad7efb-a92c-446b-ad02-8e2d4dd20bfa",
   "metadata": {},
   "source": [
    "**general specialist** (https://en.wikipedia.org/wiki/T-shaped_skills):\n",
    "\n",
    "| skill level |   A |   B |   C |\n",
    "|         --- | --- | --- | --- |\n",
    "|           1 |   X |   X |   X |\n",
    "|           2 |     |   X |     |\n",
    "|           3 |     |   X |     |\n"
   ]
  },
  {
   "cell_type": "code",
   "execution_count": 5,
   "id": "4a9ab4af-b0f0-4e41-8e4e-47501f4d3e0a",
   "metadata": {},
   "outputs": [],
   "source": [
    "general_specialist = [{'specialization': 'A', 'skill level': 1},\n",
    "                      {'specialization': 'B', 'skill level': 3},\n",
    "                      {'specialization': 'C', 'skill level': 1}]"
   ]
  },
  {
   "cell_type": "markdown",
   "id": "f9cf66ca-5511-4a13-be5f-bd0b163879e2",
   "metadata": {},
   "source": [
    "**generalist** is not good at anything, but capable in multiple specializations:\n",
    "\n",
    "| skill level |   A |   B |   C |\n",
    "|         --- | --- | --- | --- |\n",
    "|           1 |   X |   X |   X |\n",
    "|           2 |     |     |     |\n",
    "|           3 |     |     |     |"
   ]
  },
  {
   "cell_type": "code",
   "execution_count": 6,
   "id": "17632390-a8de-4a2a-8895-6e22f252d13c",
   "metadata": {},
   "outputs": [],
   "source": [
    "generalist = [{'specialization': 'A', 'skill level': 1},\n",
    "              {'specialization': 'B', 'skill level': 1},\n",
    "              {'specialization': 'C', 'skill level': 1}]"
   ]
  },
  {
   "cell_type": "markdown",
   "id": "ccee37b6-2a57-4ecf-a3b2-1ad25a7341dc",
   "metadata": {},
   "source": [
    "unskilled specialist:\n",
    "\n",
    "| skill level |   A |   B |   C |\n",
    "|         --- | --- | --- | --- |\n",
    "|           1 |   X |     |     |\n",
    "|           2 |     |     |     |\n",
    "|           3 |     |     |     |\n"
   ]
  },
  {
   "cell_type": "code",
   "execution_count": 7,
   "id": "f72c999e-fc25-48a1-8bd6-8c3a0cde8e88",
   "metadata": {},
   "outputs": [],
   "source": [
    "unskilled_specialist = [{'specialization': 'A', 'skill level': 1},\n",
    "                        {'specialization': 'B', 'skill level': 0},\n",
    "                        {'specialization': 'C', 'skill level': 0}]"
   ]
  },
  {
   "cell_type": "code",
   "execution_count": null,
   "id": "22a57fee-da98-427f-87be-008fad0cef97",
   "metadata": {},
   "outputs": [],
   "source": []
  },
  {
   "cell_type": "markdown",
   "id": "0e53cff3-e899-4961-b69e-9a681632ddca",
   "metadata": {},
   "source": [
    "## Timing of work per task\n",
    "\n",
    "*assumption*: A person can work on one task at a time.\n",
    "\n",
    "If a task requires specialization skill level 2 and takes 10 minutes, then\n",
    "* a person with skill-level 2 completes the task in 10 minutes\n",
    "* a person with skill-level 3 completes the task in  5 minutes (half the time)\n",
    "* either\n",
    "  * a person with skill-level 1 completes the task in 20 minutes (twice the time)  \n",
    "  or\n",
    "  * a person with skill-level 1 is unable to complete the task"
   ]
  },
  {
   "cell_type": "markdown",
   "id": "5e8c0343-ecf1-4ff4-af51-c475d7b6ab6f",
   "metadata": {},
   "source": [
    "## Timing of coordination\n",
    "\n",
    "When the tasks in a process involves more skills than a person has, coordination of people is required.\n",
    "\n",
    "Another way to think of coordination is the work of aligning task specialization with person specialization. \n",
    "\n",
    "*assumption*: Each person knows a certain number of people in the organization, but an organization of sufficient size requires discovery of the next person for the task.\n",
    "\n",
    "*assumption*: A person is either working on a task, idle, or finding a person to do the next task in a process. \n",
    "\n",
    "\n",
    "Each person knows $N$ other people. For those $N$ people, the discovery time is 0.\n",
    "\n",
    "*assumption*: Discovery time for finding a person who can take the next task in a process increases as the number of people in an organization increases.\n",
    "\n",
    "Discovery of who can do the next task in the process takes time. \n"
   ]
  },
  {
   "cell_type": "markdown",
   "id": "1973767c-87cd-48ad-a33c-3f9b694f8ff7",
   "metadata": {},
   "source": [
    "## Example failure modes\n",
    "\n",
    "Task complexity is high and requires specialization, but the people are generalist and lack the required depth of skills\n",
    "\n",
    "An organization of unskilled specialist cannot handle complex task\n",
    "\n",
    "Task complexity is high and has a deadline. Even if the people are available with right skills, be overhead of coordination can exceed the deadline"
   ]
  },
  {
   "cell_type": "markdown",
   "id": "a1676a4c-79a7-4e74-96b4-4d937a0e1653",
   "metadata": {},
   "source": [
    "## Functions"
   ]
  },
  {
   "cell_type": "code",
   "execution_count": 8,
   "id": "9248d23d-8d1a-4661-8700-b468baed6fc6",
   "metadata": {},
   "outputs": [],
   "source": [
    "def create_person(skill_set:list, list_of_skill_levels:list):\n",
    "    \"\"\"\n",
    "    list_of_skill_levels must have at least one element\n",
    "    list_of_skill_levels elements must be non-negative integers\n",
    "    \n",
    "    skill_set must have at least one element\n",
    "    skill_set elements are strings\n",
    "    \n",
    "    >>> skill_set = ['A','B','C']\n",
    "    >>> list_of_skill_levels = [0,1,2,3]\n",
    "    >>> create_person(skill_set, list_of_skill_levels)\n",
    "    \"\"\"\n",
    "    list_of_dicts = []\n",
    "    for skill in skill_set:\n",
    "        list_of_dicts.append({'specialization': skill, \n",
    "                              'skill level': random.choice(list_of_skill_levels)})\n",
    "    \n",
    "    return list_of_dicts"
   ]
  },
  {
   "cell_type": "code",
   "execution_count": 9,
   "id": "4450af5e-cb6a-454d-9f34-74716392f4a1",
   "metadata": {},
   "outputs": [
    {
     "data": {
      "text/plain": [
       "[{'specialization': 'A', 'skill level': 0},\n",
       " {'specialization': 'B', 'skill level': 3},\n",
       " {'specialization': 'C', 'skill level': 1}]"
      ]
     },
     "execution_count": 9,
     "metadata": {},
     "output_type": "execute_result"
    }
   ],
   "source": [
    "skill_set = ['A','B','C']\n",
    "list_of_skill_levels = [0,1,2,3]\n",
    "create_person(skill_set, list_of_skill_levels)"
   ]
  },
  {
   "cell_type": "code",
   "execution_count": 15,
   "id": "5b249c19-98b7-422f-befc-9a878acf8e52",
   "metadata": {},
   "outputs": [],
   "source": [
    "def characterize_person(person):\n",
    "    \"\"\"\n",
    "    inspired by https://en.wikipedia.org/wiki/T-shaped_skills#Skills_of_various_shapes\n",
    "    \n",
    "    \"\"\"\n",
    "    return"
   ]
  },
  {
   "cell_type": "code",
   "execution_count": 11,
   "id": "2a619551-9c76-43f6-b690-b5c1cf977742",
   "metadata": {},
   "outputs": [],
   "source": [
    "def create_organization_of_people(number_of_people:int,\n",
    "                                  skill_set:list, \n",
    "                                  list_of_skill_levels:list):\n",
    "    \"\"\"\n",
    "    number_of_people must be postive\n",
    "    \n",
    "    list_of_skill_levels must have at least one element\n",
    "    list_of_skill_levels elements must be non-negative integers\n",
    "    \n",
    "    skill_set must have at least one element\n",
    "    skill_set elements are strings\n",
    "    \n",
    "    >>> skill_set = ['A','B','C']\n",
    "    >>> list_of_skill_levels = [0,1,2,3]\n",
    "\n",
    "    \"\"\"\n",
    "    list_of_people = []\n",
    "    for person_index in range(number_of_people):\n",
    "        person = create_person(skill_set, list_of_skill_levels)\n",
    "        list_of_people.append(person)\n",
    "    return list_of_people"
   ]
  },
  {
   "cell_type": "code",
   "execution_count": 12,
   "id": "8a74a754-dea6-4195-9cde-cb8689d6e0ba",
   "metadata": {},
   "outputs": [
    {
     "data": {
      "text/plain": [
       "[[{'specialization': 'A', 'skill level': 1},\n",
       "  {'specialization': 'B', 'skill level': 0},\n",
       "  {'specialization': 'C', 'skill level': 1}],\n",
       " [{'specialization': 'A', 'skill level': 1},\n",
       "  {'specialization': 'B', 'skill level': 1},\n",
       "  {'specialization': 'C', 'skill level': 3}],\n",
       " [{'specialization': 'A', 'skill level': 2},\n",
       "  {'specialization': 'B', 'skill level': 1},\n",
       "  {'specialization': 'C', 'skill level': 2}]]"
      ]
     },
     "execution_count": 12,
     "metadata": {},
     "output_type": "execute_result"
    }
   ],
   "source": [
    "create_organization_of_people(3, skill_set, list_of_skill_levels)"
   ]
  },
  {
   "cell_type": "code",
   "execution_count": 13,
   "id": "d0550d9a-79d7-4f00-b729-01875ada3ec9",
   "metadata": {},
   "outputs": [],
   "source": [
    "def create_process(number_of_tasks:int, \n",
    "                   skill_set:list, \n",
    "                   list_of_skill_levels:list, \n",
    "                   min_task_duration_in_minutes:int,\n",
    "                   max_task_duration_in_minutes:int):\n",
    "    \"\"\"\n",
    "    list_of_skill_levels must have at least one element\n",
    "    list_of_skill_levels elements must be non-negative integers\n",
    "    \n",
    "    skill_set must have at least one element\n",
    "    skill_set elements are strings\n",
    "    \n",
    "    number_of_tasks must be positive\n",
    "        \n",
    "    min_duration_in_minutes must be positive integer\n",
    "    max_duration_in_minutes must be positive integer\n",
    "    min_duration_in_minutes < max_duration_in_minutes\n",
    "    \n",
    "    >>> skill_set = ['A','B','C']\n",
    "    >>> list_of_skill_levels = [0,1,2,3]\n",
    "    >>> min_duration_in_minutes = 5\n",
    "    >>> max_duration_in_minutes = 10\n",
    "\n",
    "    \"\"\"\n",
    "    list_of_dicts = []\n",
    "    \n",
    "    for task_index in range(number_of_tasks):\n",
    "        list_of_dicts.append({'specialization':      random.choice(skill_set), \n",
    "                              'skill level':         random.choice(list_of_skill_levels), \n",
    "                              'duration in minutes': random.choice(range(min_task_duration_in_minutes,\n",
    "                                                                         max_task_duration_in_minutes))})\n",
    "    \n",
    "    return list_of_dicts"
   ]
  },
  {
   "cell_type": "code",
   "execution_count": 14,
   "id": "b14b5f4a-5751-4603-b39e-1944503857e5",
   "metadata": {},
   "outputs": [
    {
     "data": {
      "text/plain": [
       "[{'specialization': 'C', 'skill level': 0, 'duration in minutes': 7},\n",
       " {'specialization': 'A', 'skill level': 2, 'duration in minutes': 19},\n",
       " {'specialization': 'A', 'skill level': 2, 'duration in minutes': 11}]"
      ]
     },
     "execution_count": 14,
     "metadata": {},
     "output_type": "execute_result"
    }
   ],
   "source": [
    "create_process(number_of_tasks=3, \n",
    "                   skill_set=skill_set, \n",
    "                   list_of_skill_levels=list_of_skill_levels, \n",
    "                   min_task_duration_in_minutes=5,\n",
    "                   max_task_duration_in_minutes=20)"
   ]
  },
  {
   "cell_type": "code",
   "execution_count": null,
   "id": "a847e868-dfc3-4c35-83dd-9633403be802",
   "metadata": {},
   "outputs": [],
   "source": []
  }
 ],
 "metadata": {
  "kernelspec": {
   "display_name": "Python 3 (ipykernel)",
   "language": "python",
   "name": "python3"
  },
  "language_info": {
   "codemirror_mode": {
    "name": "ipython",
    "version": 3
   },
   "file_extension": ".py",
   "mimetype": "text/x-python",
   "name": "python",
   "nbconvert_exporter": "python",
   "pygments_lexer": "ipython3",
   "version": "3.10.8"
  }
 },
 "nbformat": 4,
 "nbformat_minor": 5
}
