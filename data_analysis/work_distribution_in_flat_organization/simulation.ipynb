{
 "cells": [
  {
   "cell_type": "markdown",
   "id": "06688f2a-de7c-41c9-a8ab-f5b00359b8bf",
   "metadata": {},
   "source": [
    "# Model of work distribution in a flat organization\n",
    "\n",
    "* no managers; only workers\n",
    "* no support staff; all infrastructure for communication and tasks works without failure\n",
    "* no dark patterns\n",
    "\n",
    "TODO:\n",
    "* use realistic distributions (e.g., power law) instead of uniform\n",
    "* instead of searching randomly, search second-order contacts"
   ]
  },
  {
   "cell_type": "code",
   "execution_count": 1,
   "id": "f3628d47-42cd-4a21-8284-8917f8a5b7a4",
   "metadata": {},
   "outputs": [],
   "source": [
    "import random"
   ]
  },
  {
   "cell_type": "markdown",
   "id": "1413876d-3d14-47fd-a326-43f113e0cac0",
   "metadata": {},
   "source": [
    "### global variables for simulation"
   ]
  },
  {
   "cell_type": "code",
   "execution_count": 2,
   "id": "c24ee218-acb2-439a-a9a5-330b4c50108b",
   "metadata": {},
   "outputs": [],
   "source": [
    "skill_set_for_people = ['A','B','C'] # uniform distribution\n",
    "skill_set_for_tasks  = ['A','B','C'] # uniform distribution\n",
    "max_skill_level_per_person      = 3  # uniform distribution\n",
    "max_skill_level_per_task        = 3  # uniform distribution\n",
    "max_number_of_tasks_per_process = 3  # uniform distribution\n",
    "max_task_duration_in_ticks      = 5  # uniform distribution\n",
    "\n",
    "number_of_people = 6\n",
    "number_of_processes = 5\n",
    "social_circle_size = 3\n",
    "\n",
    "max_ticks_to_simulate = 100"
   ]
  },
  {
   "cell_type": "markdown",
   "id": "12b4cd4e-3364-46e5-814f-40ab269d70f8",
   "metadata": {},
   "source": [
    "### The two classes: person and process"
   ]
  },
  {
   "cell_type": "code",
   "execution_count": 3,
   "id": "a7eaed8e-039b-469a-b0f5-825eaadb4dfe",
   "metadata": {},
   "outputs": [],
   "source": [
    "class person():\n",
    "    # static variables\n",
    "#    skill_set = ['A','B','C']\n",
    "#    max_skill_level = 3\n",
    "    \n",
    "    def __init__(self, unique_id:int, skill_specialization_dict):\n",
    "        \"\"\"\n",
    "        each person has a\n",
    "        * uniquie_id\n",
    "        * skill/specialization matrix\n",
    "        \"\"\"\n",
    "        self.unique_id = unique_id # problem: this can be set by the user after initialization; see https://stackoverflow.com/a/48709694/1164295\n",
    "        self.backlog_of_tasks = []\n",
    "        self.status = \"idle\"\n",
    "        self.assigned_task = None \n",
    "        self.contact_list = None\n",
    "        self.skill_specialization_dict = {}\n",
    "        for skill in skill_set_for_people:\n",
    "            self.skill_specialization_dict[skill] = random.randint(1,max_skill_level_per_person+1)\n",
    "        return\n",
    "        \n",
    "    def set_status(self, status):\n",
    "        \"\"\"\n",
    "        status is a string with value idle xor working xor coordinating\n",
    "        \n",
    "        As this class is currently written, user can set \"status\" to arbitrary values\n",
    "        \"\"\"\n",
    "        try:\n",
    "            assert(status==\"idle\" or \n",
    "                   status==\"working\" or \n",
    "                   status==\"coordinating\")\n",
    "            self.status = status\n",
    "            return \"status set to '\"+status+\"'\"\n",
    "        except AssertionError:\n",
    "            return \"ERROR: failed to set status; use either 'idle' xor 'working' xor 'coordinating'\"\n",
    "        return \"ERROR: failed\"\n",
    "        \n",
    "\n",
    "    def add_person_to_contact_list(self, person_id):\n",
    "        \"\"\"\n",
    "        https://en.wikipedia.org/wiki/Dunbar%27s_number\n",
    "        \"\"\"\n",
    "        self.contact_list.append(person_id)\n",
    "        if len(self.contact_list)>social_circle_size:\n",
    "            self.contact_list.pop(0)\n",
    "        return\n",
    "    \n",
    "    #def add_task_to_backlog(self, work_item):\n",
    "    #    self.backlog_of_tasks.append(work_item)\n",
    "    #    return \n",
    "        \n",
    "    #def get_next_task_from_backlog(self):\n",
    "    #    return self.backlog_of_tasks.pop(0)\n",
    "    \n",
    "    #def show_skill_specialization(self):\n",
    "    #    return self.skill_specialization_dict\n",
    "        \n",
    "    #def show_task_backlog(self):\n",
    "    #    return self.backlog_of_tasks"
   ]
  },
  {
   "cell_type": "code",
   "execution_count": 4,
   "id": "88b5f6b3-403c-4668-8e29-b014eae83c51",
   "metadata": {},
   "outputs": [
    {
     "data": {
      "text/plain": [
       "\"ERROR: failed to set status; use either 'idle' xor 'working' xor 'coordinating'\""
      ]
     },
     "execution_count": 4,
     "metadata": {},
     "output_type": "execute_result"
    }
   ],
   "source": [
    "new_person = person(1, {'A': 2, 'B': 0})\n",
    "new_person.set_status(\"asdf\")"
   ]
  },
  {
   "cell_type": "code",
   "execution_count": 5,
   "id": "88f21305-2b90-4de7-bb19-b53c2ebae0ff",
   "metadata": {},
   "outputs": [
    {
     "data": {
      "text/plain": [
       "\"status set to 'working'\""
      ]
     },
     "execution_count": 5,
     "metadata": {},
     "output_type": "execute_result"
    }
   ],
   "source": [
    "new_person.set_status(\"working\")"
   ]
  },
  {
   "cell_type": "code",
   "execution_count": 6,
   "id": "481b17d5-c03a-4f1d-8af0-39b7ff85c2e8",
   "metadata": {},
   "outputs": [],
   "source": [
    "list_of_people = []\n",
    "for person_index in range(number_of_people):\n",
    "    this_person_dict = {}\n",
    "    for specialization in skill_set_for_people:\n",
    "        this_person_dict[specialization] = random.choice(range(max_skill_level_per_person))\n",
    "    \n",
    "    list_of_people.append(person(person_index, this_person_dict))"
   ]
  },
  {
   "cell_type": "code",
   "execution_count": 7,
   "id": "7ec69ee7-82b6-4927-8abd-66009dbae5eb",
   "metadata": {},
   "outputs": [
    {
     "name": "stdout",
     "output_type": "stream",
     "text": [
      "0\n",
      "1\n",
      "2\n",
      "3\n",
      "4\n",
      "5\n"
     ]
    }
   ],
   "source": [
    "for person in list_of_people:\n",
    "    print(person.unique_id)"
   ]
  },
  {
   "cell_type": "code",
   "execution_count": 8,
   "id": "ac63eff1-456d-4a90-ab4b-178d436666c0",
   "metadata": {},
   "outputs": [],
   "source": [
    "class process():\n",
    "    \"\"\"\n",
    "    processes are a sequence of tasks\n",
    "    \"\"\"\n",
    "    # static variables\n",
    "    #skill_set = ['A','B','C']\n",
    "    #max_skill_level = 3\n",
    "    \n",
    "    \n",
    "    def __init__(self, unique_id:int):\n",
    "        self.unique_id = unique_id\n",
    "        self.list_of_tasks = []\n",
    "        # a process is a sequence of tasks\n",
    "#        for task_id in range(process.max_number_of_tasks):\n",
    "        for task_id in range(random.randint(1,max_number_of_tasks_per_process+1)):\n",
    "            task_dict = {} #{\"task id\": task_id}\n",
    "            # task is either completed, active, or waiting\n",
    "            #task_dict['status'] = \"waiting\"\n",
    "            # each task has a skill, specicalization, duration\n",
    "            duration = random.randint(1,max_task_duration_in_ticks+1)\n",
    "            task_dict = {'process ID': unique_id,\n",
    "                         'specialization': random.choice(skill_set_for_tasks),\n",
    "                         'skill level': random.randint(1,max_skill_level_per_task+1),\n",
    "                         'total duration': duration,\n",
    "                         'remaining duration': duration}\n",
    "            self.list_of_tasks.append(task_dict)\n",
    "   \n",
    "    def show_tasks(self):\n",
    "        for task_dict in self.list_of_tasks:\n",
    "            print(task_dict)\n",
    "        return\n",
    "    \n",
    "    #def show_process(self):\n",
    "    #    return self.list_of_tasks\n",
    "    \n",
    "    #def start_next_task(self):\n",
    "    #    \"\"\"\n",
    "    #    removes task from process\n",
    "    #    \"\"\"\n",
    "    #    return self.list_of_tasks.pop()\n",
    "    \n",
    "    #def what_is_next_task(self):\n",
    "    #    return self.list_of_tasks[-1]"
   ]
  },
  {
   "cell_type": "code",
   "execution_count": 9,
   "id": "62a60466-0696-4e23-8771-542edf2af3b0",
   "metadata": {},
   "outputs": [
    {
     "data": {
      "text/plain": [
       "[{'process ID': 3,\n",
       "  'specialization': 'A',\n",
       "  'skill level': 1,\n",
       "  'total duration': 1,\n",
       "  'remaining duration': 1},\n",
       " {'process ID': 3,\n",
       "  'specialization': 'C',\n",
       "  'skill level': 3,\n",
       "  'total duration': 2,\n",
       "  'remaining duration': 2},\n",
       " {'process ID': 3,\n",
       "  'specialization': 'A',\n",
       "  'skill level': 4,\n",
       "  'total duration': 5,\n",
       "  'remaining duration': 5}]"
      ]
     },
     "execution_count": 9,
     "metadata": {},
     "output_type": "execute_result"
    }
   ],
   "source": [
    "new_p = process(3)\n",
    "new_p.list_of_tasks"
   ]
  },
  {
   "cell_type": "code",
   "execution_count": 10,
   "id": "fa759b09-68fe-405c-aa1f-b34e8cb7d8bd",
   "metadata": {},
   "outputs": [],
   "source": [
    "list_of_processes = []\n",
    "for process_id in range(number_of_processes):\n",
    "    list_of_processes.append(process(process_id))"
   ]
  },
  {
   "cell_type": "code",
   "execution_count": 11,
   "id": "e6dcc091-ce73-43b4-b614-d88181989458",
   "metadata": {},
   "outputs": [
    {
     "name": "stdout",
     "output_type": "stream",
     "text": [
      "0\n",
      "1\n",
      "2\n",
      "3\n",
      "4\n"
     ]
    }
   ],
   "source": [
    "for process in list_of_processes:\n",
    "    print(process.unique_id)"
   ]
  },
  {
   "cell_type": "markdown",
   "id": "7918ef33-8c50-4408-8b24-b09f9dc2efdc",
   "metadata": {},
   "source": [
    "### Assessment tools"
   ]
  },
  {
   "cell_type": "code",
   "execution_count": 12,
   "id": "7603fcfe-f9a9-4035-b37e-bf37f55eb6a4",
   "metadata": {},
   "outputs": [],
   "source": [
    "def show_all_people(list_of_people):\n",
    "    for person in list_of_people:\n",
    "        print('id=',person.unique_id, \n",
    "              '; skill matrix=',person.skill_specialization_dict)"
   ]
  },
  {
   "cell_type": "code",
   "execution_count": 13,
   "id": "7478ecd6-9742-4ca3-bc03-e1351f9a0904",
   "metadata": {},
   "outputs": [
    {
     "name": "stdout",
     "output_type": "stream",
     "text": [
      "id= 0 ; skill matrix= {'A': 1, 'B': 4, 'C': 2}\n",
      "id= 1 ; skill matrix= {'A': 2, 'B': 3, 'C': 4}\n",
      "id= 2 ; skill matrix= {'A': 4, 'B': 4, 'C': 3}\n",
      "id= 3 ; skill matrix= {'A': 2, 'B': 2, 'C': 2}\n",
      "id= 4 ; skill matrix= {'A': 4, 'B': 1, 'C': 1}\n",
      "id= 5 ; skill matrix= {'A': 2, 'B': 4, 'C': 3}\n"
     ]
    }
   ],
   "source": [
    "show_all_people(list_of_people)"
   ]
  },
  {
   "cell_type": "code",
   "execution_count": 14,
   "id": "80db8d05-22fc-483f-8694-89d3f511d970",
   "metadata": {},
   "outputs": [],
   "source": [
    "def current_status_of_people(list_of_people):\n",
    "    for person in list_of_people:\n",
    "        print('person id=',person.unique_id, \n",
    "                  '; status=',person.status,\n",
    "                  '; number of tasks in backlog=',len(person.backlog_of_tasks),\n",
    "                  '; task=',person.assigned_task)"
   ]
  },
  {
   "cell_type": "code",
   "execution_count": 15,
   "id": "ad805365-0c46-4301-af28-cfa7acb22f5b",
   "metadata": {},
   "outputs": [
    {
     "name": "stdout",
     "output_type": "stream",
     "text": [
      "person id= 0 ; status= idle ; number of tasks in backlog= 0 ; task= None\n",
      "person id= 1 ; status= idle ; number of tasks in backlog= 0 ; task= None\n",
      "person id= 2 ; status= idle ; number of tasks in backlog= 0 ; task= None\n",
      "person id= 3 ; status= idle ; number of tasks in backlog= 0 ; task= None\n",
      "person id= 4 ; status= idle ; number of tasks in backlog= 0 ; task= None\n",
      "person id= 5 ; status= idle ; number of tasks in backlog= 0 ; task= None\n"
     ]
    }
   ],
   "source": [
    "current_status_of_people(list_of_people)"
   ]
  },
  {
   "cell_type": "code",
   "execution_count": 16,
   "id": "c22b77a6-9307-4d25-a4ea-bee14baad9d5",
   "metadata": {},
   "outputs": [],
   "source": [
    "def cumulative_task_backlog_size(list_of_people):\n",
    "    backlog_count = 0\n",
    "    for person in list_of_people:\n",
    "        backlog_count += len(person.backlog_of_tasks)\n",
    "    return backlog_count"
   ]
  },
  {
   "cell_type": "code",
   "execution_count": 17,
   "id": "1d800f18-414a-4a00-ac4f-a5ef5d11dc6b",
   "metadata": {},
   "outputs": [
    {
     "data": {
      "text/plain": [
       "0"
      ]
     },
     "execution_count": 17,
     "metadata": {},
     "output_type": "execute_result"
    }
   ],
   "source": [
    "cumulative_task_backlog_size(list_of_people)"
   ]
  },
  {
   "cell_type": "code",
   "execution_count": 18,
   "id": "47d7bfd2-15b2-44cc-a741-c7b663ab7d88",
   "metadata": {},
   "outputs": [],
   "source": [
    "def all_idle(list_of_people):\n",
    "    for person in list_of_people:\n",
    "        if person.status != \"idle\":\n",
    "            return False\n",
    "    return True"
   ]
  },
  {
   "cell_type": "code",
   "execution_count": 19,
   "id": "b7eec3bd-1c6f-4f3f-a61e-9bcd89736a95",
   "metadata": {},
   "outputs": [
    {
     "data": {
      "text/plain": [
       "True"
      ]
     },
     "execution_count": 19,
     "metadata": {},
     "output_type": "execute_result"
    }
   ],
   "source": [
    "all_idle(list_of_people)"
   ]
  },
  {
   "cell_type": "raw",
   "id": "fe8c9368-3406-439d-8036-738fb196eb86",
   "metadata": {},
   "source": [
    "def current_status_of_unassigned_work(list_of_processes):\n",
    "    for process in list_of_processes:\n",
    "        print('id=',process.unique_id, \n",
    "              '; number of tasks remaining=',len(process.list_of_tasks))"
   ]
  },
  {
   "cell_type": "raw",
   "id": "ebe2aedb-2b35-4660-a160-4f86153925c3",
   "metadata": {},
   "source": [
    "current_status_of_work(list_of_processes)"
   ]
  },
  {
   "cell_type": "code",
   "execution_count": 20,
   "id": "4cc80a1f-d8bd-43a8-81ee-75cdf68af210",
   "metadata": {},
   "outputs": [],
   "source": [
    "def show_all_unassigned_tasks(list_of_processes):\n",
    "    for process in list_of_processes:\n",
    "        for task in process.list_of_tasks:\n",
    "            print(task)\n",
    "    return"
   ]
  },
  {
   "cell_type": "code",
   "execution_count": 21,
   "id": "b6bb25cc-c877-4379-b449-f6980b5ac8b6",
   "metadata": {},
   "outputs": [
    {
     "name": "stdout",
     "output_type": "stream",
     "text": [
      "{'process ID': 0, 'specialization': 'A', 'skill level': 2, 'total duration': 3, 'remaining duration': 3}\n",
      "{'process ID': 0, 'specialization': 'C', 'skill level': 4, 'total duration': 2, 'remaining duration': 2}\n",
      "{'process ID': 0, 'specialization': 'A', 'skill level': 2, 'total duration': 4, 'remaining duration': 4}\n",
      "{'process ID': 1, 'specialization': 'C', 'skill level': 3, 'total duration': 6, 'remaining duration': 6}\n",
      "{'process ID': 1, 'specialization': 'C', 'skill level': 3, 'total duration': 1, 'remaining duration': 1}\n",
      "{'process ID': 1, 'specialization': 'C', 'skill level': 4, 'total duration': 4, 'remaining duration': 4}\n",
      "{'process ID': 1, 'specialization': 'C', 'skill level': 3, 'total duration': 4, 'remaining duration': 4}\n",
      "{'process ID': 2, 'specialization': 'B', 'skill level': 2, 'total duration': 6, 'remaining duration': 6}\n",
      "{'process ID': 3, 'specialization': 'A', 'skill level': 2, 'total duration': 5, 'remaining duration': 5}\n",
      "{'process ID': 4, 'specialization': 'C', 'skill level': 2, 'total duration': 6, 'remaining duration': 6}\n",
      "{'process ID': 4, 'specialization': 'A', 'skill level': 1, 'total duration': 1, 'remaining duration': 1}\n"
     ]
    }
   ],
   "source": [
    "show_all_unassigned_tasks(list_of_processes)"
   ]
  },
  {
   "cell_type": "code",
   "execution_count": 22,
   "id": "9ba08964-9ba0-4fc6-9a64-a9ec93cce2f6",
   "metadata": {},
   "outputs": [],
   "source": [
    "def cumulative_unassigned_task_time_remaining(list_of_processes):\n",
    "    total_time = 0\n",
    "    for process in list_of_processes:\n",
    "        for task in process.list_of_tasks:\n",
    "            total_time += task['remaining duration']\n",
    "    return total_time"
   ]
  },
  {
   "cell_type": "code",
   "execution_count": 23,
   "id": "0c51c9f7-5c75-4152-8e7d-0728d609309f",
   "metadata": {},
   "outputs": [
    {
     "name": "stdout",
     "output_type": "stream",
     "text": [
      "42\n"
     ]
    }
   ],
   "source": [
    "print(cumulative_unassigned_task_time_remaining(list_of_processes))"
   ]
  },
  {
   "cell_type": "code",
   "execution_count": 24,
   "id": "263b6326-eb26-46f6-b3db-0eca5b74f58a",
   "metadata": {},
   "outputs": [],
   "source": [
    "def number_of_unassigned_tasks(list_of_processes):\n",
    "    task_count = 0\n",
    "    for process in list_of_processes:\n",
    "        task_count += len(process.list_of_tasks)\n",
    "    return task_count"
   ]
  },
  {
   "cell_type": "code",
   "execution_count": 25,
   "id": "1247d023-ba65-445d-b15a-36d532962374",
   "metadata": {},
   "outputs": [
    {
     "data": {
      "text/plain": [
       "11"
      ]
     },
     "execution_count": 25,
     "metadata": {},
     "output_type": "execute_result"
    }
   ],
   "source": [
    "number_of_unassigned_tasks(list_of_processes)"
   ]
  },
  {
   "cell_type": "markdown",
   "id": "cfde440c-5c94-43d8-b573-1a9f0693fbf8",
   "metadata": {},
   "source": [
    "### Initialize Simulation"
   ]
  },
  {
   "cell_type": "code",
   "execution_count": 26,
   "id": "6953ade3-081b-48d5-a90f-6759465b8d24",
   "metadata": {},
   "outputs": [
    {
     "name": "stdout",
     "output_type": "stream",
     "text": [
      "there are more people than processes\n"
     ]
    }
   ],
   "source": [
    "# randomly distribute processes to people\n",
    "\n",
    "for index in range(len(list_of_people)):\n",
    "    #print('person ID',list_of_people[index].unique_id)\n",
    "    try:\n",
    "        list_of_people[index].backlog_of_tasks.append(list_of_processes.pop())\n",
    "    except IndexError:\n",
    "        print(\"there are more people than processes\")\n",
    "        break"
   ]
  },
  {
   "cell_type": "code",
   "execution_count": 27,
   "id": "75e8f53b-84a2-49f4-baf0-1d940343247c",
   "metadata": {},
   "outputs": [
    {
     "name": "stdout",
     "output_type": "stream",
     "text": [
      "person id= 0 ; status= idle ; number of tasks in backlog= 1 ; task= None\n",
      "person id= 1 ; status= idle ; number of tasks in backlog= 1 ; task= None\n",
      "person id= 2 ; status= idle ; number of tasks in backlog= 1 ; task= None\n",
      "person id= 3 ; status= idle ; number of tasks in backlog= 1 ; task= None\n",
      "person id= 4 ; status= idle ; number of tasks in backlog= 1 ; task= None\n",
      "person id= 5 ; status= idle ; number of tasks in backlog= 0 ; task= None\n"
     ]
    }
   ],
   "source": [
    "current_status_of_people(list_of_people)"
   ]
  },
  {
   "cell_type": "markdown",
   "id": "ab2121eb-fde7-44ac-be1d-326abc309bc1",
   "metadata": {},
   "source": [
    "### Begin ticks of Simulation"
   ]
  },
  {
   "cell_type": "code",
   "execution_count": 28,
   "id": "53880fb5-ea05-426b-a33a-5234efdeba9d",
   "metadata": {},
   "outputs": [],
   "source": [
    "def pick_a_random_person(person_index, contacts, list_of_people):\n",
    "    \"\"\"\n",
    "    find someone who is not myself and is not someone I already know\n",
    "    \"\"\"\n",
    "    attempts = 0\n",
    "    try:\n",
    "        len(contacts)\n",
    "    except TypeError: # contacts is None\n",
    "        contacts=[]\n",
    "    while (attempts<100):\n",
    "        another_person = random.choice(range(len(list_of_people)))\n",
    "        if ((another_person not in contacts) and \n",
    "            (another_person != person_index)):\n",
    "            return another_person\n",
    "    print(\"failed to find another person who is not a contact\")\n",
    "    return None\n",
    "    "
   ]
  },
  {
   "cell_type": "code",
   "execution_count": 29,
   "id": "bca24e44-964d-493d-981f-e9fbb0ccd58f",
   "metadata": {
    "tags": []
   },
   "outputs": [
    {
     "name": "stdout",
     "output_type": "stream",
     "text": [
      "\n",
      "===== tick 0 =====\n",
      "number of unworked tasks: 0\n",
      "cumulative backlog size:  5\n",
      "all idle?:                True\n",
      "person id= 0 ; status= idle ; number of tasks in backlog= 1 ; task= None\n",
      "person id= 1 ; status= idle ; number of tasks in backlog= 1 ; task= None\n",
      "person id= 2 ; status= idle ; number of tasks in backlog= 1 ; task= None\n",
      "person id= 3 ; status= idle ; number of tasks in backlog= 1 ; task= None\n",
      "person id= 4 ; status= idle ; number of tasks in backlog= 1 ; task= None\n",
      "person id= 5 ; status= idle ; number of tasks in backlog= 0 ; task= None\n",
      "0 is assigned {'process ID': 4, 'specialization': 'C', 'skill level': 2, 'total duration': 6, 'remaining duration': 6} and has skills {'A': 1, 'B': 4, 'C': 2}\n",
      "   speedup for person 0 is 1.0\n",
      "1 is assigned {'process ID': 3, 'specialization': 'A', 'skill level': 2, 'total duration': 5, 'remaining duration': 5} and has skills {'A': 2, 'B': 3, 'C': 4}\n",
      "   speedup for person 1 is 1.0\n",
      "2 is assigned {'process ID': 2, 'specialization': 'B', 'skill level': 2, 'total duration': 6, 'remaining duration': 6} and has skills {'A': 4, 'B': 4, 'C': 3}\n",
      "   speedup for person 2 is 2.0\n",
      "3 is assigned {'process ID': 1, 'specialization': 'C', 'skill level': 3, 'total duration': 6, 'remaining duration': 6} and has skills {'A': 2, 'B': 2, 'C': 2}\n",
      "   contacts= None\n",
      "4 is assigned {'process ID': 0, 'specialization': 'A', 'skill level': 2, 'total duration': 3, 'remaining duration': 3} and has skills {'A': 4, 'B': 1, 'C': 1}\n",
      "   speedup for person 4 is 2.0\n",
      "person index 5 has no task in backlog\n"
     ]
    }
   ],
   "source": [
    "tick=-1\n",
    "\n",
    "while ((number_of_unassigned_tasks(list_of_processes) > 0) or\n",
    "       (cumulative_task_backlog_size(list_of_people)  > 0) or\n",
    "       all_idle(list_of_people)):\n",
    "    tick=tick+1\n",
    "    print('\\n===== tick',tick,'=====')\n",
    "    show_all_unassigned_tasks(list_of_processes)\n",
    "    print('number of unworked tasks:', number_of_unassigned_tasks(list_of_processes))\n",
    "    print('cumulative backlog size: ', cumulative_task_backlog_size(list_of_people))\n",
    "    print('all idle?:               ', all_idle(list_of_people))\n",
    "    current_status_of_people(list_of_people)\n",
    "    if (tick>max_ticks_to_simulate):\n",
    "        print(\"breaking due to excessive tick count\")\n",
    "        break\n",
    "    # each person looks in their backlog for work\n",
    "    for person_index in range(len(list_of_people)):\n",
    "        skill_dict = list_of_people[person_index].skill_specialization_dict\n",
    "        if list_of_people[person_index].status==\"idle\":\n",
    "            try:\n",
    "                process = list_of_people[person_index].backlog_of_tasks.pop(0)\n",
    "                print(person_index,'is assigned',process.list_of_tasks[0],\n",
    "                      'and has skills',skill_dict)\n",
    "            except IndexError: # pop from empty list\n",
    "                print(\"person index\",person_index,\"has no task in backlog\")\n",
    "                process = None\n",
    "        \n",
    "        if process:\n",
    "            if (process.list_of_tasks[0]['skill level'] <= skill_dict[process.list_of_tasks[0]['specialization']]): # person can do task\n",
    "                speedup = skill_dict[process.list_of_tasks[0]['specialization']]/process.list_of_tasks[0]['skill level']\n",
    "                print(\"   speedup for person\",person_index,\"is\", speedup)\n",
    "                list_of_people[person_index].status=\"working\"\n",
    "                process.list_of_tasks[0]['remaining duration'] = process.list_of_tasks[0]['remaining duration'] - speedup # \"doing the work\"\n",
    "                if (process.list_of_tasks[0]['remaining duration']<0): # task was completed\n",
    "                    list_of_people[person_index].assigned_task = None # it disappears from the simulation\n",
    "                    list_of_people[person_index].status = \"idle\"\n",
    "                else:\n",
    "                    list_of_people[person_index].assigned_task = process\n",
    "                \n",
    "            else: # person doesn't have sufficient skill for task; person needs to find someone else\n",
    "                list_of_people[person_index].status=\"coordinating\"\n",
    "                contacts = list_of_people[person_index].contact_list\n",
    "                print(\"   contacts=\",contacts)\n",
    "                if contacts: # I know people!\n",
    "                    for contact_id in contacts: # do the people I know have the skills to do this task?\n",
    "                        contacts_skill_dict = list_of_people[contact_id].skill_specialization_dict\n",
    "                        if (process.list_of_tasks[0]['skill level'] <= contacts_skill_dict[process.list_of_tasks[0]['specialization']]): # contact can do task\n",
    "                            list_of_people[contact_id].backlog_of_tasks.append(process)\n",
    "                            list_of_people[person_index].assigned_task = None\n",
    "                            list_of_people[person_index].status = \"idle\"\n",
    "                if list_of_people[person_index].status==\"coordinating\": # didn't have a contact who could do the work\n",
    "                    another_person_id = pick_a_random_person(person_index, contacts, list_of_people)\n",
    "                    another_person_skill_dict = list_of_people[another_person_id].skill_specialization_dict\n",
    "                    if (process.list_of_tasks[0]['skill level'] <= another_person_skill_dict[process.list_of_tasks[0]['specialization']]): # another_person can do task\n",
    "                        list_of_people[another_person_id].backlog_of_tasks.append(process)\n",
    "                        list_of_people[person_index].assigned_task = None\n",
    "                        list_of_people[person_index].status = \"idle\"\n",
    "        "
   ]
  },
  {
   "cell_type": "code",
   "execution_count": null,
   "id": "760fe1ac-6993-4c90-8d92-505656f0027e",
   "metadata": {},
   "outputs": [],
   "source": []
  }
 ],
 "metadata": {
  "kernelspec": {
   "display_name": "Python 3 (ipykernel)",
   "language": "python",
   "name": "python3"
  },
  "language_info": {
   "codemirror_mode": {
    "name": "ipython",
    "version": 3
   },
   "file_extension": ".py",
   "mimetype": "text/x-python",
   "name": "python",
   "nbconvert_exporter": "python",
   "pygments_lexer": "ipython3",
   "version": "3.10.8"
  }
 },
 "nbformat": 4,
 "nbformat_minor": 5
}
