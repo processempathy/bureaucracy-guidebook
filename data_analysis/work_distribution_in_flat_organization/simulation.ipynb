{
 "cells": [
  {
   "cell_type": "markdown",
   "id": "06688f2a-de7c-41c9-a8ab-f5b00359b8bf",
   "metadata": {},
   "source": [
    "# Model of work distribution in a flat organization\n",
    "\n",
    "* no managers; only workers\n",
    "* no support staff; all infrastructure for communication and tasks works without failure\n",
    "* no dark patterns\n",
    "\n",
    "TODO:\n",
    "* use realistic distributions (e.g., power law) instead of uniform\n",
    "* instead of searching randomly, search second-order contacts"
   ]
  },
  {
   "cell_type": "code",
   "execution_count": null,
   "id": "f3628d47-42cd-4a21-8284-8917f8a5b7a4",
   "metadata": {},
   "outputs": [],
   "source": [
    "import random\n",
    "import numpy\n",
    "print(\"numpy\", numpy.__version__)\n",
    "import pandas\n",
    "print(\"pandas\", pandas.__version__)\n",
    "import seaborn\n",
    "print(\"seaborn\", seaborn.__version__)\n",
    "import matplotlib\n",
    "print(\"matplotlib\", matplotlib.__version__)\n",
    "from matplotlib import pyplot as plt\n",
    "import sys\n",
    "print(sys.version_info)"
   ]
  },
  {
   "cell_type": "code",
   "execution_count": null,
   "id": "3b7f06d6-bcf2-4d84-a6c9-5b1ab70cd42c",
   "metadata": {},
   "outputs": [],
   "source": [
    "pandas.set_option('display.max_rows', None)\n",
    "pandas.set_option('display.max_columns', None)"
   ]
  },
  {
   "cell_type": "markdown",
   "id": "1413876d-3d14-47fd-a326-43f113e0cac0",
   "metadata": {},
   "source": [
    "### global variables for simulation"
   ]
  },
  {
   "cell_type": "markdown",
   "id": "c8e41950-6d4a-4a42-9bfe-f5e9eff4b85f",
   "metadata": {},
   "source": [
    "#### user-defined"
   ]
  },
  {
   "cell_type": "code",
   "execution_count": null,
   "id": "c24ee218-acb2-439a-a9a5-330b4c50108b",
   "metadata": {},
   "outputs": [],
   "source": [
    "skill_set_for_people = ['A','B'] # ['A','B','C'] # uniform distribution\n",
    "skill_set_for_tasks  = ['A','B'] # ['A','B','C'] # uniform distribution\n",
    "max_skill_level_per_person      = 3  # uniform distribution\n",
    "max_skill_level_per_task        = 3  # uniform distribution\n",
    "max_number_of_tasks_per_process = 6  # uniform distribution\n",
    "max_task_duration_in_ticks      = 1  # uniform distribution\n",
    "\n",
    "number_of_people = 10\n",
    "social_circle_size = 2\n",
    "\n",
    "max_ticks_to_simulate = 100"
   ]
  },
  {
   "cell_type": "markdown",
   "id": "4f095701-5279-4178-83e0-47e55845ec35",
   "metadata": {},
   "source": [
    "#### not set by user"
   ]
  },
  {
   "cell_type": "code",
   "execution_count": null,
   "id": "a68afbd7-edd0-41cc-aad9-8dae554267d1",
   "metadata": {},
   "outputs": [],
   "source": [
    "process_id = 0"
   ]
  },
  {
   "cell_type": "markdown",
   "id": "27ebf14b-e617-41f3-88a0-59e21a5c5814",
   "metadata": {},
   "source": [
    "### input validation"
   ]
  },
  {
   "cell_type": "code",
   "execution_count": null,
   "id": "d7dbfbb8-e2e0-4436-8b4b-71fe6a107502",
   "metadata": {},
   "outputs": [],
   "source": [
    "if len(skill_set_for_people)<1:\n",
    "    raise Exception(\"invalid value\")\n",
    "if len(skill_set_for_tasks)<1:\n",
    "    raise Exception(\"invalid value\")\n",
    "    \n",
    "if max_skill_level_per_person<1:\n",
    "    raise Exception(\"invalid value\")\n",
    "    \n",
    "if max_skill_level_per_task<1:\n",
    "    raise Exception(\"invalid value\")\n",
    "if max_number_of_tasks_per_process<1:\n",
    "    raise Exception(\"invalid value\")\n",
    "if max_task_duration_in_ticks<1:\n",
    "    raise Exception(\"invalid value\")\n",
    "if number_of_people<1:\n",
    "    raise Exception(\"invalid value\")\n",
    "if social_circle_size<0:\n",
    "    raise Exception(\"invalid value\")\n",
    "if max_ticks_to_simulate<1:\n",
    "    raise Exception(\"invalid value\")"
   ]
  },
  {
   "cell_type": "markdown",
   "id": "12b4cd4e-3364-46e5-814f-40ab269d70f8",
   "metadata": {},
   "source": [
    "### The two classes: person and process"
   ]
  },
  {
   "cell_type": "code",
   "execution_count": null,
   "id": "a7eaed8e-039b-469a-b0f5-825eaadb4dfe",
   "metadata": {},
   "outputs": [],
   "source": [
    "class CreatePerson():\n",
    "    # static variables\n",
    "#    skill_set = ['A','B','C']\n",
    "#    max_skill_level = 3\n",
    "    \n",
    "    def __init__(self, unique_id:int):\n",
    "        \"\"\"\n",
    "        each person has a\n",
    "        * uniquie_id\n",
    "        * skill/specialization matrix\n",
    "        \"\"\"\n",
    "        self.unique_id = unique_id # problem: this can be set by the user after initialization; see https://stackoverflow.com/a/48709694/1164295\n",
    "        self.backlog_of_processes = []\n",
    "        self.status = \"idle\"\n",
    "        self.assigned_process = None \n",
    "        self.contact_list = None\n",
    "        self.skill_specialization_dict = {}\n",
    "        self.work_journal_per_tick = {}\n",
    "        for skill in skill_set_for_people:\n",
    "            self.skill_specialization_dict[skill] = random.randint(0,max_skill_level_per_person)\n",
    "        return\n",
    "        \n",
    "    def set_status(self, status):\n",
    "        \"\"\"\n",
    "        status is a string with value idle xor working xor coordinating\n",
    "        \n",
    "        As this class is currently written, user can set \"status\" to arbitrary values\n",
    "        \"\"\"\n",
    "        try:\n",
    "            assert(status==\"idle\" or \n",
    "                   status==\"working\" or \n",
    "                   status==\"coordinating\")\n",
    "            self.status = status\n",
    "            return \"status set to '\"+status+\"'\"\n",
    "        except AssertionError:\n",
    "            return \"ERROR: failed to set status; use either 'idle' xor 'working' xor 'coordinating'\"\n",
    "        return \"ERROR: failed\"\n",
    "        \n",
    "\n",
    "    def add_person_to_contact_list(self, person_id):\n",
    "        \"\"\"\n",
    "        https://en.wikipedia.org/wiki/Dunbar%27s_number\n",
    "        \"\"\"\n",
    "        self.contact_list.append(person_id)\n",
    "        if len(self.contact_list)>social_circle_size:\n",
    "            self.contact_list.pop(0)\n",
    "        return\n",
    "    \n",
    "    #def add_task_to_backlog(self, work_item):\n",
    "    #    self.backlog_of_processes.append(work_item)\n",
    "    #    return \n",
    "        \n",
    "    #def get_next_task_from_backlog(self):\n",
    "    #    return self.backlog_of_processes.pop(0)\n",
    "    \n",
    "    #def show_skill_specialization(self):\n",
    "    #    return self.skill_specialization_dict\n",
    "        \n",
    "    #def show_task_backlog(self):\n",
    "    #    return self.backlog_of_processes"
   ]
  },
  {
   "cell_type": "code",
   "execution_count": null,
   "id": "88b5f6b3-403c-4668-8e29-b014eae83c51",
   "metadata": {},
   "outputs": [],
   "source": [
    "new_person = CreatePerson(1)\n",
    "new_person.set_status(\"asdf\")"
   ]
  },
  {
   "cell_type": "code",
   "execution_count": null,
   "id": "88f21305-2b90-4de7-bb19-b53c2ebae0ff",
   "metadata": {},
   "outputs": [],
   "source": [
    "new_person.set_status(\"working\")"
   ]
  },
  {
   "cell_type": "code",
   "execution_count": null,
   "id": "481b17d5-c03a-4f1d-8af0-39b7ff85c2e8",
   "metadata": {},
   "outputs": [],
   "source": [
    "list_of_people = []\n",
    "for person_index in range(number_of_people):\n",
    "    #this_person_dict = {}\n",
    "    #for specialization in skill_set_for_people:\n",
    "    #    this_person_dict[specialization] = random.choice(range(max_skill_level_per_person))\n",
    "    \n",
    "    list_of_people.append(CreatePerson(person_index))"
   ]
  },
  {
   "cell_type": "code",
   "execution_count": null,
   "id": "7ec69ee7-82b6-4927-8abd-66009dbae5eb",
   "metadata": {},
   "outputs": [],
   "source": [
    "for person in list_of_people:\n",
    "    print(person.unique_id)"
   ]
  },
  {
   "cell_type": "code",
   "execution_count": null,
   "id": "2f11c73d-2775-4bd8-b532-1c6affd1de44",
   "metadata": {},
   "outputs": [],
   "source": [
    "max_skill_per_specialization = {}\n",
    "\n",
    "# initialize to -1\n",
    "for specialization in skill_set_for_people:\n",
    "    max_skill_per_specialization[specialization] = -1\n",
    "    \n",
    "for person in list_of_people:\n",
    "    #print(person.skill_specialization_dict)\n",
    "    for persons_specialization, persons_skilllevel in person.skill_specialization_dict.items():\n",
    "        if persons_skilllevel>max_skill_per_specialization[persons_specialization]:\n",
    "            max_skill_per_specialization[persons_specialization] = persons_skilllevel\n",
    "            \n",
    "for specialization, skilllevel in max_skill_per_specialization.items():\n",
    "    if skilllevel<max_skill_level_per_person:\n",
    "        print(\"WARNING: population lacks max skill-level for\",specialization)\n",
    "        print(\"As a consquence, some tasks cannot be completed by this population\")"
   ]
  },
  {
   "cell_type": "code",
   "execution_count": null,
   "id": "ac63eff1-456d-4a90-ab4b-178d436666c0",
   "metadata": {},
   "outputs": [],
   "source": [
    "class CreateProcess():\n",
    "    \"\"\"\n",
    "    processes are a sequence of tasks\n",
    "    \"\"\"\n",
    "    # static variables\n",
    "    #skill_set = ['A','B','C']\n",
    "    #max_skill_level = 3\n",
    "    \n",
    "    \n",
    "    def __init__(self, unique_id:int):\n",
    "        self.unique_id = unique_id\n",
    "        self.list_of_tasks = []\n",
    "        # a process is a sequence of tasks\n",
    "#        for task_id in range(process.max_number_of_tasks):\n",
    "        for task_id in range(random.randint(1,max_number_of_tasks_per_process)):\n",
    "            #task_dict = {\"task id\": task_id}\n",
    "            # task is either completed, active, or waiting\n",
    "            #task_dict['status'] = \"waiting\"\n",
    "            # each task has a skill, specialization, duration\n",
    "            duration = random.randint(1,max_task_duration_in_ticks)\n",
    "            task_dict = {'process ID': unique_id,\n",
    "                         \"task id\": task_id,\n",
    "                         'specialization': random.choice(skill_set_for_tasks),\n",
    "                         'skill level': random.randint(1,max_skill_level_per_task),\n",
    "                         'total duration': duration,\n",
    "                         'remaining duration': duration}\n",
    "            self.list_of_tasks.append(task_dict)\n",
    "   \n",
    "    def show_tasks(self):\n",
    "        for task_dict in self.list_of_tasks:\n",
    "            print(task_dict)\n",
    "        return\n",
    "    \n",
    "    #def show_process(self):\n",
    "    #    return self.list_of_tasks\n",
    "    \n",
    "    #def start_next_task(self):\n",
    "    #    \"\"\"\n",
    "    #    removes task from process\n",
    "    #    \"\"\"\n",
    "    #    return self.list_of_tasks.pop()\n",
    "    \n",
    "    #def what_is_next_task(self):\n",
    "    #    return self.list_of_tasks[-1]"
   ]
  },
  {
   "cell_type": "code",
   "execution_count": null,
   "id": "62a60466-0696-4e23-8771-542edf2af3b0",
   "metadata": {},
   "outputs": [],
   "source": [
    "new_p = CreateProcess(101)\n",
    "new_p.list_of_tasks"
   ]
  },
  {
   "cell_type": "raw",
   "id": "43e17942-53a6-4ae0-95cf-bf5fbfc99637",
   "metadata": {},
   "source": [
    "list_of_processes = []\n",
    "for process_id in range(number_of_processes):\n",
    "    list_of_processes.append(process(process_id))"
   ]
  },
  {
   "cell_type": "raw",
   "id": "7186cc75-6082-44f8-a3ea-fc8a3d7e2f0f",
   "metadata": {},
   "source": [
    "for process in list_of_processes:\n",
    "    print(process.unique_id)"
   ]
  },
  {
   "cell_type": "markdown",
   "id": "608c6b9a-898d-47bb-972e-87ce36853dba",
   "metadata": {},
   "source": [
    "instead of a static list of processes to draw from,   \n",
    "create an infinite backlog of work"
   ]
  },
  {
   "cell_type": "code",
   "execution_count": null,
   "id": "8f65d9b5-8de5-478c-9176-5078c65d9280",
   "metadata": {},
   "outputs": [],
   "source": [
    "def new_process():\n",
    "    global process_id\n",
    "    process_id+=1\n",
    "    return CreateProcess(process_id)"
   ]
  },
  {
   "cell_type": "markdown",
   "id": "7918ef33-8c50-4408-8b24-b09f9dc2efdc",
   "metadata": {},
   "source": [
    "### Assessment tools"
   ]
  },
  {
   "cell_type": "code",
   "execution_count": null,
   "id": "7603fcfe-f9a9-4035-b37e-bf37f55eb6a4",
   "metadata": {},
   "outputs": [],
   "source": [
    "def show_all_people(list_of_people):\n",
    "    for person in list_of_people:\n",
    "        print('id=',person.unique_id, \n",
    "              '; skill matrix=',person.skill_specialization_dict)"
   ]
  },
  {
   "cell_type": "code",
   "execution_count": null,
   "id": "7478ecd6-9742-4ca3-bc03-e1351f9a0904",
   "metadata": {},
   "outputs": [],
   "source": [
    "show_all_people(list_of_people)"
   ]
  },
  {
   "cell_type": "code",
   "execution_count": null,
   "id": "80db8d05-22fc-483f-8694-89d3f511d970",
   "metadata": {},
   "outputs": [],
   "source": [
    "def current_status_of_people(list_of_people):\n",
    "    \"\"\"\n",
    "    what is each person doing?\n",
    "    \"\"\"\n",
    "    for person in list_of_people:\n",
    "        try:\n",
    "            task = person.assigned_process.list_of_tasks[0]\n",
    "        except AttributeError:\n",
    "            task = None\n",
    "        print('person id=',person.unique_id, \n",
    "                  '; status=',person.status,\n",
    "                  '; task=',task,\n",
    "                  '; number of processes in backlog=',len(person.backlog_of_processes))\n"
   ]
  },
  {
   "cell_type": "code",
   "execution_count": null,
   "id": "ad805365-0c46-4301-af28-cfa7acb22f5b",
   "metadata": {},
   "outputs": [],
   "source": [
    "current_status_of_people(list_of_people)"
   ]
  },
  {
   "cell_type": "code",
   "execution_count": null,
   "id": "c22b77a6-9307-4d25-a4ea-bee14baad9d5",
   "metadata": {},
   "outputs": [],
   "source": [
    "def cumulative_task_backlog_size(list_of_people):\n",
    "    backlog_count = 0\n",
    "    for person in list_of_people:\n",
    "        backlog_count += len(person.backlog_of_processes)\n",
    "    return backlog_count"
   ]
  },
  {
   "cell_type": "code",
   "execution_count": null,
   "id": "1d800f18-414a-4a00-ac4f-a5ef5d11dc6b",
   "metadata": {},
   "outputs": [],
   "source": [
    "cumulative_task_backlog_size(list_of_people)"
   ]
  },
  {
   "cell_type": "code",
   "execution_count": null,
   "id": "47d7bfd2-15b2-44cc-a741-c7b663ab7d88",
   "metadata": {},
   "outputs": [],
   "source": [
    "def all_idle(list_of_people):\n",
    "    for person in list_of_people:\n",
    "        if person.status != \"idle\":\n",
    "            return False\n",
    "    return True"
   ]
  },
  {
   "cell_type": "code",
   "execution_count": null,
   "id": "b7eec3bd-1c6f-4f3f-a61e-9bcd89736a95",
   "metadata": {},
   "outputs": [],
   "source": [
    "all_idle(list_of_people)"
   ]
  },
  {
   "cell_type": "raw",
   "id": "fe8c9368-3406-439d-8036-738fb196eb86",
   "metadata": {},
   "source": [
    "def current_status_of_unassigned_work(list_of_processes):\n",
    "    for process in list_of_processes:\n",
    "        print('id=',process.unique_id, \n",
    "              '; number of tasks remaining=',len(process.list_of_tasks))"
   ]
  },
  {
   "cell_type": "raw",
   "id": "ebe2aedb-2b35-4660-a160-4f86153925c3",
   "metadata": {},
   "source": [
    "current_status_of_work(list_of_processes)"
   ]
  },
  {
   "cell_type": "raw",
   "id": "efc7bc8a-e3c9-4db3-84a7-037953b3380f",
   "metadata": {},
   "source": [
    "def show_all_unassigned_processs(list_of_processes):\n",
    "    for process in list_of_processes:\n",
    "        for task in process.list_of_tasks:\n",
    "            print(task)\n",
    "    return"
   ]
  },
  {
   "cell_type": "raw",
   "id": "e0ea85d4-ef84-475a-b978-1f9ebf0d26bf",
   "metadata": {},
   "source": [
    "show_all_unassigned_processs(list_of_processes)"
   ]
  },
  {
   "cell_type": "raw",
   "id": "982af8bd-c5df-493b-bdf9-93fc72f348f4",
   "metadata": {},
   "source": [
    "def cumulative_unassigned_process_time_remaining(list_of_processes):\n",
    "    total_time = 0\n",
    "    for process in list_of_processes:\n",
    "        for task in process.list_of_tasks:\n",
    "            total_time += task['remaining duration']\n",
    "    return total_time"
   ]
  },
  {
   "cell_type": "raw",
   "id": "1d66f7b0-69c8-4668-bd2a-70b59e11cef3",
   "metadata": {},
   "source": [
    "print(cumulative_unassigned_process_time_remaining(list_of_processes))"
   ]
  },
  {
   "cell_type": "raw",
   "id": "b7262306-b62b-4859-ae81-850801b1382d",
   "metadata": {},
   "source": [
    "def number_of_unassigned_processs(list_of_processes):\n",
    "    task_count = 0\n",
    "    for process in list_of_processes:\n",
    "        task_count += len(process.list_of_tasks)\n",
    "    return task_count"
   ]
  },
  {
   "cell_type": "raw",
   "id": "0ec02609-c896-4fc1-a0ea-1fc64ffcd998",
   "metadata": {},
   "source": [
    "number_of_unassigned_processs(list_of_processes)"
   ]
  },
  {
   "cell_type": "markdown",
   "id": "cfde440c-5c94-43d8-b573-1a9f0693fbf8",
   "metadata": {},
   "source": [
    "### Initialize Simulation"
   ]
  },
  {
   "cell_type": "code",
   "execution_count": null,
   "id": "6953ade3-081b-48d5-a90f-6759465b8d24",
   "metadata": {},
   "outputs": [],
   "source": [
    "# randomly distribute processes to people\n",
    "\n",
    "list_of_processes = [] # track the generated processes\n",
    "\n",
    "for index in range(len(list_of_people)):\n",
    "    #print('person ID',list_of_people[index].unique_id)\n",
    "    a_process = new_process()\n",
    "    list_of_processes.append(a_process)\n",
    "    try:\n",
    "        list_of_people[index].backlog_of_processes.append(a_process)\n",
    "    except IndexError:\n",
    "        print(\"there are more people than processes\")\n",
    "        break"
   ]
  },
  {
   "cell_type": "code",
   "execution_count": null,
   "id": "75e8f53b-84a2-49f4-baf0-1d940343247c",
   "metadata": {},
   "outputs": [],
   "source": [
    "current_status_of_people(list_of_people)"
   ]
  },
  {
   "cell_type": "markdown",
   "id": "ab2121eb-fde7-44ac-be1d-326abc309bc1",
   "metadata": {},
   "source": [
    "### Begin ticks of Simulation"
   ]
  },
  {
   "cell_type": "code",
   "execution_count": null,
   "id": "53880fb5-ea05-426b-a33a-5234efdeba9d",
   "metadata": {},
   "outputs": [],
   "source": [
    "def pick_a_random_person(person_index, contacts, list_of_people):\n",
    "    \"\"\"\n",
    "    find someone who is not myself and is not someone I already know\n",
    "    \"\"\"\n",
    "    attempts = 0\n",
    "    try:\n",
    "        len(contacts)\n",
    "    except TypeError: # contacts is None\n",
    "        contacts=[]\n",
    "    while (attempts<100):\n",
    "        another_person = random.choice(range(len(list_of_people)))\n",
    "        if ((another_person not in contacts) and \n",
    "            (another_person != person_index)):\n",
    "            return another_person\n",
    "    print(\"failed to find another person who is not a contact\")\n",
    "    return None\n",
    "    "
   ]
  },
  {
   "cell_type": "code",
   "execution_count": null,
   "id": "bca24e44-964d-493d-981f-e9fbb0ccd58f",
   "metadata": {
    "tags": []
   },
   "outputs": [],
   "source": [
    "def simulate(max_ticks_to_simulate: int,\n",
    "             list_of_people: list):\n",
    "    \"\"\"\n",
    "    \"\"\"\n",
    "    tick=-1\n",
    "    while ((tick<max_ticks_to_simulate)):\n",
    "        tick=tick+1\n",
    "        print('\\n===== tick',tick,'=====')\n",
    "        print(\"   ===== status at the leading edge of this tick: =====\")\n",
    "        current_status_of_people(list_of_people)\n",
    "        print(\"   ===== updates happening in this tick: =====\")\n",
    "        # each person looks in their backlog for work\n",
    "        for person_index in range(len(list_of_people)):\n",
    "            skill_dict = list_of_people[person_index].skill_specialization_dict\n",
    "            print(\"person\",person_index,'has skills',skill_dict)\n",
    "\n",
    "            # initialize the work journal        \n",
    "            list_of_people[person_index].work_journal_per_tick[tick] = {'number of processes in backlog=': \n",
    "                                                                        len(list_of_people[person_index].backlog_of_processes)}\n",
    "            print(\"   person\",person_index,\"has backlog length\",list_of_people[person_index].backlog_of_processes)\n",
    "\n",
    "            if list_of_people[person_index].status==\"idle\":\n",
    "                assert(list_of_people[person_index].assigned_process is None)\n",
    "                try:\n",
    "                    # new processes get appended, so the oldest task is at position 0\n",
    "                    list_of_people[person_index].assigned_process = list_of_people[person_index].backlog_of_processes.pop(0)\n",
    "                    print(\"   person\",person_index,\"got task from their backlog\")\n",
    "                    print(\"      process consists of\",list_of_people[person_index].assigned_process.list_of_tasks)\n",
    "                    list_of_people[person_index].work_journal_per_tick[tick]['task from'] = 'my own backlog'\n",
    "                except IndexError: # pop from empty list\n",
    "                    a_process = new_process()\n",
    "                    list_of_processes.append(a_process) # save process to list for post-simulation analysis\n",
    "                    list_of_people[person_index].assigned_process = a_process\n",
    "                    print(\"   person\",person_index,\"had no task in backlog; got new process from infinite queue\")\n",
    "                    print(\"      process consists of\",list_of_people[person_index].assigned_process.list_of_tasks)\n",
    "                    list_of_people[person_index].work_journal_per_tick[tick]['task from'] = 'infinite backlog'\n",
    "\n",
    "                # can the person do the task, or do they need to coordinate?\n",
    "                if (list_of_people[person_index].assigned_process.list_of_tasks[0]['skill level'] <= \n",
    "                    skill_dict[list_of_people[person_index].assigned_process.list_of_tasks[0]['specialization']]): # person can do task\n",
    "                    print(\"   person\",person_index,\"can do the task!\")\n",
    "                    list_of_people[person_index].status=\"working\"\n",
    "                    list_of_people[person_index].work_journal_per_tick[tick]['status was'] = \"idle\"\n",
    "                    list_of_people[person_index].work_journal_per_tick[tick]['status is now'] = \"working\"\n",
    "                else: # person doesn't have sufficient skill for task; person needs to find someone else\n",
    "                    print(\"   person\",person_index,\"does not have sufficient skill\")\n",
    "                    list_of_people[person_index].status=\"coordinating\"\n",
    "                    list_of_people[person_index].work_journal_per_tick[tick]['status was'] = \"idle\"\n",
    "                    list_of_people[person_index].work_journal_per_tick[tick]['status is now'] = \"coordinating\"\n",
    "\n",
    "            # at this point, regardless of status, the person has a task\n",
    "            if not list_of_people[person_index].assigned_process:\n",
    "                raise Exception(\"person\",person_index,\"should have a task\")\n",
    "\n",
    "            my_process = list_of_people[person_index].assigned_process\n",
    "            print(\"   person\",person_index,\"has an assigned task\",my_process.list_of_tasks[0])\n",
    "            list_of_people[person_index].work_journal_per_tick[tick]['task'] = my_process.list_of_tasks[0]\n",
    "\n",
    "            assert((list_of_people[person_index].status==\"working\") or \n",
    "                   (list_of_people[person_index].status==\"coordinating\"))\n",
    "\n",
    "            if list_of_people[person_index].status==\"working\":\n",
    "                list_of_people[person_index].work_journal_per_tick[tick]['status was'] = \"working\"\n",
    "                speedup = skill_dict[my_process.list_of_tasks[0]['specialization']]/my_process.list_of_tasks[0]['skill level']\n",
    "                print(\"   speedup for person\",person_index,\"is\", speedup)\n",
    "                my_process.list_of_tasks[0]['remaining duration'] = my_process.list_of_tasks[0]['remaining duration'] - speedup # \"doing the work\"\n",
    "                if (my_process.list_of_tasks[0]['remaining duration']<=0): # task was completed\n",
    "                    print(\"   task completed!\")\n",
    "                    list_of_people[person_index].assigned_process = None\n",
    "                    list_of_people[person_index].status = \"idle\"\n",
    "                    list_of_people[person_index].work_journal_per_tick[tick]['outcome'] = \"task completed\"\n",
    "                    list_of_people[person_index].work_journal_per_tick[tick]['status is now'] = \"idle\"\n",
    "                else: # update the task to reflect there being less work remaining because the person did some work\n",
    "                    list_of_people[person_index].assigned_process = my_process\n",
    "                    list_of_people[person_index].work_journal_per_tick[tick]['outcome'] = \"worked but task remains\"\n",
    "                    list_of_people[person_index].work_journal_per_tick[tick]['status is now'] = \"working\"\n",
    "\n",
    "            if list_of_people[person_index].status==\"coordinating\":\n",
    "                list_of_people[person_index].work_journal_per_tick[tick]['status was'] = \"coordinating\"\n",
    "                contacts = list_of_people[person_index].contact_list\n",
    "                print(\"   person\",person_index,\"contacts=\",contacts)\n",
    "                if contacts: # I know people!\n",
    "                    print(\"   person\",person_index,\"looks in contact list\")\n",
    "                    for contact_id in contacts: # do the people I know have the skills to do this task?\n",
    "                        contacts_skill_dict = list_of_people[contact_id].skill_specialization_dict\n",
    "                        if (my_process.list_of_tasks[0]['skill level'] <= contacts_skill_dict[my_process.list_of_tasks[0]['specialization']]): # contact can do task\n",
    "                            list_of_people[contact_id].backlog_of_processes.append(process)\n",
    "                            list_of_people[person_index].assigned_process = None\n",
    "                            list_of_people[person_index].status = \"idle\"\n",
    "                            print(\"   person\",person_index,\"gave task to person\",contact_id,\"from contact list\")\n",
    "                            list_of_people[person_index].work_journal_per_tick[tick]['outcome'] = \"gave task to person \"+str(contact_id)+\" from contact list\"\n",
    "                            list_of_people[person_index].add_person_to_contact_list(contact_id)\n",
    "                            print(\"   person\",person_index,\"added\",contact_id,\"to list of contacts\")\n",
    "                            list_of_people[person_index].work_journal_per_tick[tick]['status is now'] = \"idle\"\n",
    "                # after looking through contacts, if the status is still \"coordinating\", \n",
    "                # then person didn't have a contact who could do the work\n",
    "                if list_of_people[person_index].status==\"coordinating\": \n",
    "                    another_person_id = pick_a_random_person(person_index, contacts, list_of_people)\n",
    "                    another_person_skill_dict = list_of_people[another_person_id].skill_specialization_dict\n",
    "                    if (my_process.list_of_tasks[0]['skill level'] <= another_person_skill_dict[my_process.list_of_tasks[0]['specialization']]): # another_person can do task\n",
    "                        list_of_people[another_person_id].backlog_of_processes.append(my_process)\n",
    "                        list_of_people[person_index].assigned_process = None\n",
    "                        list_of_people[person_index].status = \"idle\"\n",
    "                        print(\"   person\",person_index,\"gave task to person\",another_person_id,\"from random search\")\n",
    "                        list_of_people[person_index].work_journal_per_tick[tick]['outcome'] = \"gave task to person \"+str(another_person_id)+\" from random search\"\n",
    "                        list_of_people[person_index].work_journal_per_tick[tick]['status is now'] = \"idle\"\n",
    "                    else:\n",
    "                        print(\"   person\",person_index,\"not able give to\",another_person_id,\"from random search\")\n",
    "                        list_of_people[person_index].work_journal_per_tick[tick]['outcome'] = \"not able to give to \"+str(another_person_id)+\" from random search\"\n",
    "                        list_of_people[person_index].work_journal_per_tick[tick]['status is now'] = \"coordinating\"\n",
    "\n",
    "    return list_of_people"
   ]
  },
  {
   "cell_type": "code",
   "execution_count": null,
   "id": "b5a0c54a-39f3-4769-b15a-9a5455b0b423",
   "metadata": {
    "tags": []
   },
   "outputs": [],
   "source": [
    "list_of_people = simulate(max_ticks_to_simulate,list_of_people)"
   ]
  },
  {
   "cell_type": "code",
   "execution_count": null,
   "id": "6db7e9e2-d29b-487c-9f74-0ea9f3de5e62",
   "metadata": {},
   "outputs": [],
   "source": [
    "list_of_processes[0].list_of_tasks"
   ]
  },
  {
   "cell_type": "markdown",
   "id": "e0f040fc-bb84-47ab-8914-d66f19718ae2",
   "metadata": {},
   "source": [
    "## Post-simulation analysis"
   ]
  },
  {
   "cell_type": "markdown",
   "id": "264fc4fd-0788-4add-9105-8183ae050cc6",
   "metadata": {},
   "source": [
    "### a single person"
   ]
  },
  {
   "cell_type": "code",
   "execution_count": null,
   "id": "8b0cdb35-1ac6-4ccb-9452-f9669402ceb9",
   "metadata": {
    "tags": []
   },
   "outputs": [],
   "source": [
    "list_of_dicts = []\n",
    "for tick_index, journal_dict in list_of_people[0].work_journal_per_tick.items():\n",
    "    #print(tick_index)\n",
    "    this_dict = {'tick': tick_index}\n",
    "    for k,v in journal_dict.items():\n",
    "        if k == \"task\":\n",
    "            for task_k, task_v in v.items():\n",
    "                this_dict[task_k] = task_v\n",
    "        else:    \n",
    "            this_dict[k] = v\n",
    "    #print(this_dict)\n",
    "    list_of_dicts.append(this_dict)"
   ]
  },
  {
   "cell_type": "code",
   "execution_count": null,
   "id": "01a68590-d387-4e6b-803c-1e6584cec064",
   "metadata": {},
   "outputs": [],
   "source": [
    "list_of_people[0].skill_specialization_dict"
   ]
  },
  {
   "cell_type": "code",
   "execution_count": null,
   "id": "616d55f7-2ee1-4191-834e-e4091be39242",
   "metadata": {
    "tags": []
   },
   "outputs": [],
   "source": [
    "df_a_persons_journal = pandas.DataFrame(list_of_dicts)\n",
    "df_a_persons_journal"
   ]
  },
  {
   "cell_type": "markdown",
   "id": "10933a26-eac3-4c4a-b9d0-4aeed6613b8c",
   "metadata": {},
   "source": [
    "# Visualization of the Simulation"
   ]
  },
  {
   "cell_type": "code",
   "execution_count": null,
   "id": "88884ada-9553-4f5e-b2ac-1f8de7940b50",
   "metadata": {
    "tags": []
   },
   "outputs": [],
   "source": [
    "for index,person in enumerate(list_of_people):\n",
    "    print(index,person.skill_specialization_dict)"
   ]
  },
  {
   "cell_type": "code",
   "execution_count": null,
   "id": "c7580c6b-478f-437c-9057-36c8f535b490",
   "metadata": {},
   "outputs": [],
   "source": [
    "# TODO: A heat map of the ensemble of people for specializations and skill levels"
   ]
  },
  {
   "cell_type": "code",
   "execution_count": null,
   "id": "b662e5f3-4c4a-4d79-92fc-53e8b88f6988",
   "metadata": {},
   "outputs": [],
   "source": [
    "aggregate_person_dict = {}\n",
    "for specialization in skill_set_for_people:\n",
    "    aggregate_person_dict[specialization] = [0 for _ in range(max_skill_level_per_person)]\n",
    "\n",
    "#aggregate_person_dict"
   ]
  },
  {
   "cell_type": "code",
   "execution_count": null,
   "id": "5f3daf95-fb4f-48c2-b0bc-971d9da784de",
   "metadata": {},
   "outputs": [],
   "source": [
    "for person_id, person in enumerate(list_of_people):\n",
    "    for specialization, skilllevel in person.skill_specialization_dict.items():\n",
    "        #print(person_id, specialization, skilllevel)\n",
    "        if skilllevel>0:\n",
    "            aggregate_person_dict[specialization][skilllevel-1] += 1\n",
    "        #print(aggregate_person_dict)\n",
    "        \n",
    "#aggregate_person_dict"
   ]
  },
  {
   "cell_type": "code",
   "execution_count": null,
   "id": "afc64adb-e8b7-43e4-a351-72e6047a22c3",
   "metadata": {},
   "outputs": [],
   "source": [
    "df_cumulative_people = pandas.DataFrame(aggregate_person_dict)\n",
    "# https://pandas.pydata.org/docs/reference/api/pandas.DataFrame.set_index.html\n",
    "df_cumulative_people.set_index(pandas.Index(list(range(1,max_skill_level_per_person+1))))\n",
    "df_cumulative_people"
   ]
  },
  {
   "cell_type": "code",
   "execution_count": null,
   "id": "ee5a0619-a8b9-49dd-8f6d-573bc4425ed6",
   "metadata": {},
   "outputs": [],
   "source": [
    "# https://stackoverflow.com/a/34712544/1164295\n",
    "seaborn.set(font_scale=1.5)\n",
    "# https://stackoverflow.com/a/57266083/1164295\n",
    "seaborn.heatmap(df_cumulative_people, \n",
    "                annot=True, \n",
    "                fmt=\"d\",\n",
    "                yticklabels=df_cumulative_people.index, \n",
    "                cmap='Blues', \n",
    "                linewidths=1, \n",
    "                linecolor='black');\n",
    "plt.title(\"Cumulative counts across all people\")\n",
    "plt.gca().set_xlabel('Specialization', fontsize=15);\n",
    "plt.gca().set_ylabel('Skill-level', fontsize=15);"
   ]
  },
  {
   "cell_type": "code",
   "execution_count": null,
   "id": "b5b1733b-b476-4102-a987-762553ae7179",
   "metadata": {},
   "outputs": [],
   "source": [
    "# TODO: A heat map of the ensemble of task per specializations in skill levels"
   ]
  },
  {
   "cell_type": "code",
   "execution_count": null,
   "id": "1b9afcb8-a91d-4f57-b905-2e2f855b5e58",
   "metadata": {},
   "outputs": [],
   "source": [
    "list_of_processes[0].list_of_tasks[0]"
   ]
  },
  {
   "cell_type": "code",
   "execution_count": null,
   "id": "bd9f9ccf-8a08-4b7a-ba5e-557af18efabb",
   "metadata": {},
   "outputs": [],
   "source": [
    "aggregate_task_dict = {}\n",
    "for specialization in skill_set_for_tasks:\n",
    "    aggregate_task_dict[specialization] = [0 for _ in range(max_skill_level_per_task)]\n",
    "\n",
    "aggregate_task_dict"
   ]
  },
  {
   "cell_type": "code",
   "execution_count": null,
   "id": "7ff9a3f0-b3e6-4c44-b2fa-835104ba5a17",
   "metadata": {
    "tags": []
   },
   "outputs": [],
   "source": [
    "for process in list_of_processes:\n",
    "    for task in process.list_of_tasks:\n",
    "        #print('specialization:',task['specialization'])\n",
    "        #print('skill-level:',task['skill level'])\n",
    "        if task['skill level']>0:\n",
    "            aggregate_task_dict[task['specialization']][task['skill level']-1] += 1"
   ]
  },
  {
   "cell_type": "code",
   "execution_count": null,
   "id": "fa1ce2a5-4966-4911-a2ab-9ab62e402cc1",
   "metadata": {},
   "outputs": [],
   "source": [
    "df_cumulative_tasks = pandas.DataFrame(aggregate_task_dict)\n",
    "# https://pandas.pydata.org/docs/reference/api/pandas.DataFrame.set_index.html\n",
    "df_cumulative_tasks = df_cumulative_tasks.set_index(pandas.Index(list(range(1,max_skill_level_per_task+1))))"
   ]
  },
  {
   "cell_type": "code",
   "execution_count": null,
   "id": "d1e7c7df-e40f-49eb-b61c-5777ea8c80b2",
   "metadata": {},
   "outputs": [],
   "source": [
    "# https://seaborn.pydata.org/generated/seaborn.heatmap.html\n",
    "\n",
    "# https://matplotlib.org/stable/gallery/images_contours_and_fields/image_annotated_heatmap.html\n",
    "\n",
    "# https://stackoverflow.com/a/34712544/1164295\n",
    "seaborn.set(font_scale=1.5)\n",
    "# https://stackoverflow.com/a/57266083/1164295\n",
    "seaborn.heatmap(df_cumulative_tasks, \n",
    "                annot=True, \n",
    "                fmt=\"d\",\n",
    "                yticklabels=df_cumulative_tasks.index, \n",
    "                cmap='Blues', \n",
    "                linewidths=1, \n",
    "                linecolor='black');\n",
    "plt.title(\"Cumulative counts across all tasks\")\n",
    "plt.gca().set_xlabel('Specialization', fontsize=15);\n",
    "plt.gca().set_ylabel('Skill-level', fontsize=15);"
   ]
  },
  {
   "cell_type": "code",
   "execution_count": null,
   "id": "75defcf1-b194-4f90-94e3-326354c59763",
   "metadata": {},
   "outputs": [],
   "source": [
    "# TODO: Heat map with axes of time and person index, \n",
    "# with the color being the length of the backlog per person per time"
   ]
  },
  {
   "cell_type": "code",
   "execution_count": null,
   "id": "5f788011-5a14-45f6-b570-4be72a15d393",
   "metadata": {
    "tags": []
   },
   "outputs": [],
   "source": [
    "person_time_backlog_dict = {}\n",
    "for person_index in range(len(list_of_people)):\n",
    "    \n",
    "    description=\"\"\n",
    "    for specialization,skilllevel in list_of_people[person_index].skill_specialization_dict.items():\n",
    "        description+=specialization+str(skilllevel)+\",\"\n",
    "    \n",
    "    person_label = str(person_index)+\": \"+description[:-1]\n",
    "    \n",
    "    person_time_backlog_dict[person_label] = []\n",
    "    for tick_index, journal_dict in list_of_people[person_index].work_journal_per_tick.items():\n",
    "        #print(person_id, tick_index, journal_dict['number of processes in backlog='])\n",
    "        person_time_backlog_dict[person_label].append(journal_dict['number of processes in backlog='])"
   ]
  },
  {
   "cell_type": "code",
   "execution_count": null,
   "id": "cc5a4e43-4e00-4611-984d-b7a05ed81863",
   "metadata": {
    "tags": []
   },
   "outputs": [],
   "source": [
    "df_person_time_backlog = pandas.DataFrame(person_time_backlog_dict)\n",
    "#df_person_time_backlog"
   ]
  },
  {
   "cell_type": "code",
   "execution_count": null,
   "id": "e5edd062-8cd4-480b-ad3f-0f8067bc1cc2",
   "metadata": {},
   "outputs": [],
   "source": [
    "# https://seaborn.pydata.org/generated/seaborn.heatmap.html\n",
    "\n",
    "seaborn.heatmap(df_person_time_backlog)\n",
    "plt.title('backlog length per person')\n",
    "plt.gca().set_xlabel('person', fontsize=15);\n",
    "plt.gca().set_ylabel('time [ticks]', fontsize=15);"
   ]
  },
  {
   "cell_type": "code",
   "execution_count": null,
   "id": "4212c1f2-4948-43fe-9e79-e14418a7313e",
   "metadata": {},
   "outputs": [],
   "source": [
    "for index,person in enumerate(list_of_people):\n",
    "    print(index,person.skill_specialization_dict)"
   ]
  },
  {
   "cell_type": "markdown",
   "id": "d14e0fe2-6fdb-4cb7-8ec2-269621ab2a73",
   "metadata": {},
   "source": [
    "## process ID per person versus time"
   ]
  },
  {
   "cell_type": "code",
   "execution_count": null,
   "id": "f1e8266b-38c4-4944-8e31-e4f37eebed56",
   "metadata": {
    "tags": []
   },
   "outputs": [],
   "source": [
    "person_time_processID_dict = {}\n",
    "for person_id, person in enumerate(list_of_people):\n",
    "    person_time_processID_dict[person_id] = []\n",
    "    for tick, work_dict in person.work_journal_per_tick.items():\n",
    "        #print(work_dict)\n",
    "        person_time_processID_dict[person_id].append(work_dict['task']['process ID'])"
   ]
  },
  {
   "cell_type": "code",
   "execution_count": null,
   "id": "6cd24033-f350-42ac-8958-538932ce35c4",
   "metadata": {
    "tags": []
   },
   "outputs": [],
   "source": [
    "df_person_time_processID = pandas.DataFrame(person_time_processID_dict)\n",
    "df_person_time_processID"
   ]
  },
  {
   "cell_type": "code",
   "execution_count": null,
   "id": "e15191f4-1b0b-4570-9a80-d7210d1c1c5e",
   "metadata": {},
   "outputs": [],
   "source": [
    "# https://seaborn.pydata.org/generated/seaborn.heatmap.html\n",
    "\n",
    "seaborn.heatmap(df_person_time_processID)\n",
    "plt.title('process ID')\n",
    "plt.gca().set_xlabel('person', fontsize=15);\n",
    "plt.gca().set_ylabel('time [ticks]', fontsize=15);"
   ]
  },
  {
   "cell_type": "markdown",
   "id": "cc622724-77a6-4116-adfa-99864c65d034",
   "metadata": {},
   "source": [
    "# ratio of the elapsed time for a process versus the number task for process."
   ]
  },
  {
   "cell_type": "code",
   "execution_count": null,
   "id": "8ef6b644-d34b-45ec-8925-e070ae79f830",
   "metadata": {},
   "outputs": [],
   "source": [
    "elapsed_process_timing = {}\n",
    "# https://pandas.pydata.org/docs/reference/api/pandas.DataFrame.max.html\n",
    "for process_id in range(min(df_person_time_processID.min()),\n",
    "                        max(df_person_time_processID.max())):\n",
    "    # https://pandas.pydata.org/docs/reference/api/pandas.DataFrame.dropna.html\n",
    "    list_of_ticks_containing_process = list(df_person_time_processID[\n",
    "        df_person_time_processID==process_id].dropna(axis=0,how='all').index)\n",
    "    \n",
    "    assert(process_id==list_of_processes[process_id-1].list_of_tasks[0]['process ID'])\n",
    "    \n",
    "    elapsed_process_timing[process_id] = {'first seen': min(list_of_ticks_containing_process),\n",
    "                                          'last seen': max(list_of_ticks_containing_process),\n",
    "                                          'number of tasks': len(list_of_processes[process_id-1].list_of_tasks)}"
   ]
  },
  {
   "cell_type": "code",
   "execution_count": null,
   "id": "04742a40-4a37-477e-9461-2b7d621c91a9",
   "metadata": {
    "tags": []
   },
   "outputs": [],
   "source": [
    "df_process_timing = pandas.DataFrame(elapsed_process_timing).T\n",
    "df_process_timing['process actual duration'] = df_process_timing['last seen'] - df_process_timing['first seen']+1\n",
    "df_process_timing['ratio of actual to minimum'] = df_process_timing['process actual duration']/df_process_timing['number of tasks']\n",
    "df_process_timing"
   ]
  },
  {
   "cell_type": "code",
   "execution_count": null,
   "id": "4c111fc7-18d1-4c97-8b12-c92632234b1a",
   "metadata": {},
   "outputs": [],
   "source": [
    "# TODO: Heat map with axes of time and person index, \n",
    "# with the color being the status (working, idle, coordinating)"
   ]
  },
  {
   "cell_type": "code",
   "execution_count": null,
   "id": "2e3b93c4-5c91-4c9d-ae96-21ba4d522c8a",
   "metadata": {},
   "outputs": [],
   "source": [
    "# TODO: A pie chart of the named persona types like unicorn and specialist. \n",
    "# The biggest piece of pie will be the others"
   ]
  },
  {
   "cell_type": "markdown",
   "id": "c461127a-f845-4b5a-855a-db7add98ffe7",
   "metadata": {},
   "source": [
    "## task throughput vs time"
   ]
  },
  {
   "cell_type": "code",
   "execution_count": null,
   "id": "6ada3610-e850-4e40-854e-912968afbc8b",
   "metadata": {
    "tags": []
   },
   "outputs": [],
   "source": [
    "task_count_per_time_dict = {}\n",
    "for person_id, person in enumerate(list_of_people):\n",
    "    for tick, work_dict in person.work_journal_per_tick.items():\n",
    "        if tick not in task_count_per_time_dict.keys():\n",
    "            task_count_per_time_dict[tick] = 0\n",
    "            \n",
    "        if \"task from\" in work_dict.keys():\n",
    "            #print(person_id, tick, work_dict[\"task from\"])\n",
    "            task_count_per_time_dict[tick] += 1"
   ]
  },
  {
   "cell_type": "code",
   "execution_count": null,
   "id": "76b9dab7-db9b-4476-818d-1e4f9f39a9ff",
   "metadata": {},
   "outputs": [],
   "source": [
    "plt.scatter(x=task_count_per_time_dict.keys(), \n",
    "            y=task_count_per_time_dict.values())\n",
    "plt.ylabel('number of tasks\\nstarted during this tick')\n",
    "plt.xlabel('time [ticks]');"
   ]
  },
  {
   "cell_type": "code",
   "execution_count": null,
   "id": "80cf7993-7329-4203-8747-ac7d99c24c15",
   "metadata": {},
   "outputs": [],
   "source": [
    "plt.scatter(x=list(task_count_per_time_dict.keys()), \n",
    "            y=list(numpy.cumsum(list(task_count_per_time_dict.values()))),\n",
    "            label=\"number of people=\"+str(number_of_people))\n",
    "\n",
    "plt.ylabel('cumulative task count')\n",
    "plt.xlabel('time [ticks]');\n",
    "plt.legend();"
   ]
  },
  {
   "cell_type": "markdown",
   "id": "b095b9b5-59b7-4b61-bd8f-a3bb81d811ee",
   "metadata": {},
   "source": [
    "# The reward for good work is more work"
   ]
  },
  {
   "cell_type": "code",
   "execution_count": null,
   "id": "3e72a12f-55ed-4272-8d6e-9a5382ef0702",
   "metadata": {},
   "outputs": [],
   "source": [
    "people_versus_time_task_count={}\n",
    "for person_id, person in enumerate(list_of_people):\n",
    "    people_versus_time_task_count[person_id] = []\n",
    "    completed_task_count = 0\n",
    "    for tick, work_dict in person.work_journal_per_tick.items():\n",
    "        if work_dict['outcome']=='task completed':\n",
    "            completed_task_count+=1\n",
    "        people_versus_time_task_count[person_id].append(completed_task_count)"
   ]
  },
  {
   "cell_type": "code",
   "execution_count": null,
   "id": "a266a5d6-4646-4cee-a57f-96d05467e047",
   "metadata": {},
   "outputs": [],
   "source": []
  },
  {
   "cell_type": "code",
   "execution_count": null,
   "id": "374a4ace-d474-4d7b-bbd3-c3ee7948465e",
   "metadata": {
    "tags": []
   },
   "outputs": [],
   "source": [
    "list_of_labels = []\n",
    "list_of_task_counts = []\n",
    "\n",
    "for person_index, completed_task_count in people_versus_time_task_count.items():\n",
    "    description=\"\"\n",
    "    for specialization,skilllevel in list_of_people[person_index].skill_specialization_dict.items():\n",
    "        description+=specialization+str(skilllevel)+\",\"\n",
    "\n",
    "    person_label = \"person \"+str(person_index)+\": \"+description[:-1]\n",
    "    \n",
    "    # these two lists are not used in this cell; they are for the stacked plot\n",
    "    list_of_labels.append(person_label)\n",
    "    list_of_task_counts.append(completed_task_count)\n",
    "        \n",
    "    plt.scatter(x=range(len(completed_task_count)),\n",
    "                y=completed_task_count, \n",
    "                label=person_label)\n",
    "    \n",
    "# https://stackoverflow.com/a/4701285\n",
    "plt.gca().legend(loc='center left', bbox_to_anchor=(1, 0.5))\n",
    "plt.xlabel('time [ticks]')\n",
    "plt.ylabel('cumulative count\\nof completed tasks');\n",
    "plt.title('social circle size ='+str(social_circle_size));"
   ]
  },
  {
   "cell_type": "code",
   "execution_count": null,
   "id": "c7b8af83-b661-4f24-81ba-ddaa1f8f9dc2",
   "metadata": {},
   "outputs": [],
   "source": [
    "for index,person in enumerate(list_of_people):\n",
    "    print(index,person.skill_specialization_dict)"
   ]
  },
  {
   "cell_type": "markdown",
   "id": "bdec44f5-5bfe-4ebd-b8ef-52d918b12d40",
   "metadata": {},
   "source": [
    "## work done per person"
   ]
  },
  {
   "cell_type": "code",
   "execution_count": null,
   "id": "c2d9d2ba-d796-49cb-92c1-8fabb1a6527f",
   "metadata": {},
   "outputs": [],
   "source": [
    "# https://www.python-graph-gallery.com/251-stacked-area-chart-with-seaborn-style\n",
    "# https://www.python-graph-gallery.com/250-basic-stacked-area-chart\n",
    "\n",
    "# set seaborn style\n",
    "seaborn.set_theme()\n",
    "    \n",
    "plt.stackplot(range(len(completed_task_count)),\n",
    "              list_of_task_counts,\n",
    "              labels=list_of_labels)\n",
    "    \n",
    "# https://stackoverflow.com/a/4701285\n",
    "plt.gca().legend(loc='center left', bbox_to_anchor=(1, 0.5))\n",
    "plt.xlabel('time [ticks]')\n",
    "plt.ylabel('cumulative count\\nof completed tasks');\n",
    "plt.title('social circle size ='+str(social_circle_size));"
   ]
  },
  {
   "cell_type": "markdown",
   "id": "1df08bf5-23f0-4b37-952c-44ef6f7e7adf",
   "metadata": {},
   "source": [
    "## percentage stacked area chart\n",
    "\n",
    "https://www.python-graph-gallery.com/255-percentage-stacked-area-chart"
   ]
  },
  {
   "cell_type": "code",
   "execution_count": null,
   "id": "7d7ef872-3d42-40a3-81b6-7715f4bcb5ad",
   "metadata": {},
   "outputs": [],
   "source": [
    "task_dict = {}\n",
    "for person_index, cumulative_task_count in enumerate(list_of_task_counts):\n",
    "    task_dict[person_index] = cumulative_task_count\n",
    "    \n",
    "df_task_cumulative_count = pandas.DataFrame(task_dict)"
   ]
  },
  {
   "cell_type": "code",
   "execution_count": null,
   "id": "039686b0-bd27-4cbc-acd8-533b81ab6e36",
   "metadata": {},
   "outputs": [],
   "source": [
    "# https://stackoverflow.com/a/46738366\n",
    "\n",
    "df_task_cumulative_percent = df_task_cumulative_count.divide(df_task_cumulative_count.sum(axis=1), axis=0)\n",
    "  \n",
    "#plot_me = df_task_cumulative_percent.T\n",
    "\n",
    "#plot_me = df_task_cumulative_percent[df_task_cumulative_percent.columns[::-1]]\n",
    "\n",
    "#plot_me[plot_me.columns[::-1]]\n",
    "\n",
    "#df_to_plot = df_task_cumulative_percent.T\n",
    "\n",
    "\n",
    "# https://stackoverflow.com/a/27817770"
   ]
  },
  {
   "cell_type": "raw",
   "id": "9f724318-ff5f-4dce-9eb8-4eb212cc7d50",
   "metadata": {},
   "source": [
    "list_of_labels.reverse()"
   ]
  },
  {
   "cell_type": "code",
   "execution_count": null,
   "id": "59b949ed-8647-4e1b-8959-113fcd661337",
   "metadata": {},
   "outputs": [],
   "source": [
    "plt.stackplot(range(len(completed_task_count)),\n",
    "              #df_task_cumulative_percent[df_task_cumulative_percent.columns[::-1]].T,\n",
    "              df_task_cumulative_percent.T,\n",
    "              #plot_me.T,\n",
    "              #df_task_cumulative_percent[df_task_cumulative_percent.columns[::-1]].T,\n",
    "              labels=list_of_labels)\n",
    "    \n",
    "# https://stackoverflow.com/a/4701285\n",
    "plt.gca().legend(loc='center left', bbox_to_anchor=(1, 0.5))\n",
    "plt.xlabel('time [ticks]')\n",
    "plt.ylabel('percent of\\ncompleted tasks');\n",
    "plt.title('social circle size ='+str(social_circle_size));"
   ]
  },
  {
   "cell_type": "markdown",
   "id": "cf9b4d13-7ed6-4805-ad70-aae8404c6095",
   "metadata": {},
   "source": [
    "# TODO: https://en.wikipedia.org/wiki/Little%27s_law"
   ]
  },
  {
   "cell_type": "markdown",
   "id": "439412e7-6cc4-4678-9040-aae6254384cc",
   "metadata": {},
   "source": []
  },
  {
   "cell_type": "code",
   "execution_count": null,
   "id": "910a9c77-a7e3-4ad4-a36e-f2eff3a0bbea",
   "metadata": {},
   "outputs": [],
   "source": []
  }
 ],
 "metadata": {
  "kernelspec": {
   "display_name": "Python 3 (ipykernel)",
   "language": "python",
   "name": "python3"
  },
  "language_info": {
   "codemirror_mode": {
    "name": "ipython",
    "version": 3
   },
   "file_extension": ".py",
   "mimetype": "text/x-python",
   "name": "python",
   "nbconvert_exporter": "python",
   "pygments_lexer": "ipython3",
   "version": "3.10.8"
  }
 },
 "nbformat": 4,
 "nbformat_minor": 5
}
