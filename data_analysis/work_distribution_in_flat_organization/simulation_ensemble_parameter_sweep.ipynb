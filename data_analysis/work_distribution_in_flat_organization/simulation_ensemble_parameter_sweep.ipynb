{
 "cells": [
  {
   "cell_type": "markdown",
   "id": "06688f2a-de7c-41c9-a8ab-f5b00359b8bf",
   "metadata": {},
   "source": [
    "# Model of work distribution in a flat organization\n",
    "\n",
    "* no managers; only workers\n",
    "* no support staff; all infrastructure for communication and tasks works without failure\n",
    "* no dark patterns\n",
    "\n",
    "TODO:\n",
    "* use realistic distributions (e.g., power law) instead of uniform\n",
    "* instead of searching randomly, search second-order contacts"
   ]
  },
  {
   "cell_type": "code",
   "execution_count": 1,
   "id": "f3628d47-42cd-4a21-8284-8917f8a5b7a4",
   "metadata": {},
   "outputs": [
    {
     "name": "stdout",
     "output_type": "stream",
     "text": [
      "numpy 1.23.5\n",
      "pandas 1.5.2\n",
      "seaborn 0.12.2\n",
      "matplotlib 3.6.2\n",
      "sys.version_info(major=3, minor=10, micro=8, releaselevel='final', serial=0)\n"
     ]
    }
   ],
   "source": [
    "import random\n",
    "import numpy\n",
    "print(\"numpy\", numpy.__version__)\n",
    "import pandas\n",
    "print(\"pandas\", pandas.__version__)\n",
    "import seaborn\n",
    "print(\"seaborn\", seaborn.__version__)\n",
    "import matplotlib\n",
    "print(\"matplotlib\", matplotlib.__version__)\n",
    "from matplotlib import pyplot as plt\n",
    "import time\n",
    "import sys\n",
    "print(sys.version_info)"
   ]
  },
  {
   "cell_type": "code",
   "execution_count": null,
   "id": "3b7f06d6-bcf2-4d84-a6c9-5b1ab70cd42c",
   "metadata": {},
   "outputs": [],
   "source": [
    "pandas.set_option('display.max_rows', None)\n",
    "pandas.set_option('display.max_columns', None)"
   ]
  },
  {
   "cell_type": "code",
   "execution_count": null,
   "id": "7086bc07-6c59-445b-9b1f-e0df4f94d568",
   "metadata": {},
   "outputs": [],
   "source": [
    "random.seed(10)"
   ]
  },
  {
   "cell_type": "code",
   "execution_count": null,
   "id": "827117e8-1f8f-42ad-be98-ebdfb71ea2cb",
   "metadata": {},
   "outputs": [],
   "source": [
    "import lib_simulation"
   ]
  },
  {
   "cell_type": "markdown",
   "id": "1413876d-3d14-47fd-a326-43f113e0cac0",
   "metadata": {},
   "source": [
    "### global variables for simulation"
   ]
  },
  {
   "cell_type": "markdown",
   "id": "c8e41950-6d4a-4a42-9bfe-f5e9eff4b85f",
   "metadata": {},
   "source": [
    "#### user-defined"
   ]
  },
  {
   "cell_type": "code",
   "execution_count": null,
   "id": "c24ee218-acb2-439a-a9a5-330b4c50108b",
   "metadata": {},
   "outputs": [],
   "source": [
    "import configuration_simCount25_skills3_levels3_duration1_people2to10_social0to8_ticks100 as config"
   ]
  },
  {
   "cell_type": "markdown",
   "id": "27ebf14b-e617-41f3-88a0-59e21a5c5814",
   "metadata": {},
   "source": [
    "### input validation"
   ]
  },
  {
   "cell_type": "code",
   "execution_count": null,
   "id": "d7dbfbb8-e2e0-4436-8b4b-71fe6a107502",
   "metadata": {},
   "outputs": [],
   "source": [
    "if len(config.skill_set_for_people)<1:\n",
    "    raise Exception(\"invalid value\")\n",
    "if len(config.skill_set_for_tasks)<1:\n",
    "    raise Exception(\"invalid value\")\n",
    "    \n",
    "if config.max_skill_level_per_person<1:\n",
    "    raise Exception(\"invalid value\")\n",
    "if config.max_skill_level_per_task<1:\n",
    "    raise Exception(\"invalid value\")\n",
    "if config.max_task_duration_in_ticks<1:\n",
    "    raise Exception(\"invalid value\")\n",
    "    \n",
    "if config.min_number_of_people<1:\n",
    "    raise Exception(\"invalid value\")\n",
    "if config.max_number_of_people<1:\n",
    "    raise Exception(\"invalid value\")\n",
    "if ((config.min_number_of_people) > (config.max_number_of_people)):\n",
    "    print(config.min_number_of_people)\n",
    "    print(config.max_number_of_people)\n",
    "    print((config.min_number_of_people) > (config.max_number_of_people))\n",
    "    raise Exception(\"invalid value\")\n",
    "\n",
    "if config.min_social_circle_size<0:\n",
    "    raise Exception(\"invalid value\")\n",
    "if config.max_social_circle_size<0:\n",
    "    raise Exception(\"invalid value\")\n",
    "if config.min_social_circle_size>config.max_social_circle_size:\n",
    "    print(config.min_social_circle_size)\n",
    "    print(config.max_social_circle_size)\n",
    "    raise Exception(\"invalid value\")\n",
    "    \n",
    "if config.max_ticks_to_simulate<1:\n",
    "    raise Exception(\"invalid value\")\n",
    "    \n",
    "if config.number_of_simultions<1:\n",
    "    raise Exception(\"invalid value\")"
   ]
  },
  {
   "cell_type": "markdown",
   "id": "cfde440c-5c94-43d8-b573-1a9f0693fbf8",
   "metadata": {},
   "source": [
    "### Initialize Simulation"
   ]
  },
  {
   "cell_type": "code",
   "execution_count": null,
   "id": "b5a0c54a-39f3-4769-b15a-9a5455b0b423",
   "metadata": {
    "tags": []
   },
   "outputs": [],
   "source": [
    "list_of_dicts = []\n",
    "\n",
    "max_task_duration = 5\n",
    "\n",
    "start_time = time.time()\n",
    "for number_of_people in range(config.min_number_of_people,config.max_number_of_people+1):\n",
    "    print(\"number of people:\",number_of_people,round(time.time()-start_time,2),\"seconds\")\n",
    "    for social_circle_size in range(config.min_social_circle_size,config.max_social_circle_size+1):\n",
    "        #print(\"  social circle size:\",social_circle_size,round(time.time()-start_time,2),\"seconds\")\n",
    "        for max_task_duration_in_ticks in range(1,max_task_duration+1):\n",
    "            #print(\"    task duration:\",max_task_duration_in_ticks,round(time.time()-start_time,2),\"seconds\")\n",
    "            for sim_index in range(config.number_of_simultions+1):\n",
    "                #print(\"      sim index:\",sim_index,round(time.time()-start_time,2),\"seconds\")\n",
    "                this_sim_dict = {'sim index': sim_index}\n",
    "\n",
    "                list_of_people = []\n",
    "                for person_index in range(number_of_people):\n",
    "                    list_of_people.append(lib_simulation.CreatePerson(person_index, \n",
    "                                                                      config.skill_set_for_people, \n",
    "                                                                      config.max_skill_level_per_person))\n",
    "\n",
    "                tasks_dict = {} # track the generated tasks for post-simulation analysis\n",
    "\n",
    "                task_id = -1\n",
    "\n",
    "                # randomly distribute tasks to people\n",
    "                for index in range(len(list_of_people)):\n",
    "                    #print('person ID',list_of_people[index].unique_id)\n",
    "                    task_id+=1\n",
    "                    tasks_dict = lib_simulation.new_task(task_id,\n",
    "                                                         config.skill_set_for_tasks,\n",
    "                                                         config.max_skill_level_per_task,\n",
    "                                                         max_task_duration_in_ticks,\n",
    "                                                         tasks_dict)\n",
    "                    list_of_people[index].backlog_of_tasks.append(tasks_dict[task_id])\n",
    "\n",
    "\n",
    "                list_of_people, tasks_dict = lib_simulation.simulate(False, # show narrative\n",
    "                                                                     False, # work journal\n",
    "                                                                     config.skill_set_for_tasks,\n",
    "                                                                     config.max_skill_level_per_task,\n",
    "                                                                     config.max_ticks_to_simulate,\n",
    "                                                                     max_task_duration_in_ticks,\n",
    "                                                                     list_of_people,\n",
    "                                                                     tasks_dict)\n",
    "    \n",
    "                this_sim_dict['completed task count at tick 100'] = len(tasks_dict.keys())\n",
    "                this_sim_dict['number of people'] =number_of_people\n",
    "                this_sim_dict['number of people in contact list'] = social_circle_size\n",
    "                this_sim_dict['task duration'] = max_task_duration_in_ticks\n",
    "                this_sim_dict['aggregate person skills'] = lib_simulation.get_aggregate_person_dict(list_of_people,\n",
    "                                                                                                    config.skill_set_for_people,\n",
    "                                                                                                    config.max_skill_level_per_person)\n",
    "                list_of_dicts.append(this_sim_dict)"
   ]
  },
  {
   "cell_type": "markdown",
   "id": "e0f040fc-bb84-47ab-8914-d66f19718ae2",
   "metadata": {},
   "source": [
    "## Post-simulation analysis"
   ]
  },
  {
   "cell_type": "code",
   "execution_count": null,
   "id": "8b34821b-7779-44a2-b69b-d632dd3f7da2",
   "metadata": {
    "tags": []
   },
   "outputs": [],
   "source": [
    "df = pandas.DataFrame(list_of_dicts)\n",
    "df.head()"
   ]
  },
  {
   "cell_type": "code",
   "execution_count": null,
   "id": "9808de9a-8dc2-48a7-bdf4-d8d66b325c5d",
   "metadata": {},
   "outputs": [],
   "source": [
    "df.shape"
   ]
  },
  {
   "cell_type": "code",
   "execution_count": null,
   "id": "93393724-cd9b-4de2-a878-436d6df6ba5c",
   "metadata": {},
   "outputs": [],
   "source": [
    "list_of_people[0].skill_specialization_dict"
   ]
  },
  {
   "cell_type": "code",
   "execution_count": null,
   "id": "492e1650-c9b1-4f20-9361-59a32cc62a82",
   "metadata": {},
   "outputs": [],
   "source": [
    "df.columns"
   ]
  },
  {
   "cell_type": "code",
   "execution_count": null,
   "id": "cdfebf34-2611-40db-9d8c-b847925e42f6",
   "metadata": {},
   "outputs": [],
   "source": [
    "df.max()"
   ]
  },
  {
   "cell_type": "code",
   "execution_count": null,
   "id": "015a92cb-078d-4110-96ee-b425461383f7",
   "metadata": {},
   "outputs": [],
   "source": [
    "# https://seaborn.pydata.org/generated/seaborn.stripplot.html\n",
    "seaborn.stripplot(df.loc[(df['number of people in contact list']==0) & (df['task duration']==1)], \n",
    "                  x='number of people', \n",
    "                  y='completed task count at tick 100',\n",
    "                  jitter=True)\n",
    "plt.title(\"social circle size 0\\ntask duration = coordination duration\");"
   ]
  },
  {
   "cell_type": "code",
   "execution_count": null,
   "id": "449ac060-f806-45b9-95a1-8fc2e267965f",
   "metadata": {},
   "outputs": [],
   "source": [
    "# https://seaborn.pydata.org/generated/seaborn.swarmplot.html\n",
    "seaborn.stripplot(df.loc[(df['number of people in contact list']==0) & (df['task duration']==max_task_duration)], \n",
    "                  x='number of people', \n",
    "                  y='completed task count at tick 100',\n",
    "                  jitter=True)\n",
    "plt.title(\"social circle size 0\\ntask duration = \"+str(max_task_duration)+\"x coordination duration\");"
   ]
  },
  {
   "cell_type": "code",
   "execution_count": null,
   "id": "397cbb6d-3c0f-4334-bce7-704557c8c76f",
   "metadata": {},
   "outputs": [],
   "source": [
    "# https://seaborn.pydata.org/generated/seaborn.stripplot.html\n",
    "seaborn.stripplot(df.loc[(df['number of people in contact list']==config.max_social_circle_size) \n",
    "                       & (df['task duration']==1)], \n",
    "                  x='number of people', \n",
    "                  y='completed task count at tick 100',\n",
    "                  jitter=True)\n",
    "plt.title(\"social circle size \"+str(config.max_social_circle_size)+\n",
    "          \"\\ntask duration = coordination duration\");"
   ]
  },
  {
   "cell_type": "code",
   "execution_count": null,
   "id": "077239eb-93bf-4aef-ba0f-d290d29b5021",
   "metadata": {},
   "outputs": [],
   "source": [
    "# TODO: \n",
    "# https://stackoverflow.com/questions/66974670/displaying-averages-graphically-on-seaborn-swarm-plots"
   ]
  },
  {
   "cell_type": "code",
   "execution_count": null,
   "id": "7aa63625-14f9-4296-b70e-df562b5e8bb9",
   "metadata": {},
   "outputs": [],
   "source": [
    "# https://seaborn.pydata.org/generated/seaborn.swarmplot.html\n",
    "seaborn.swarmplot(df.loc[(df['number of people']==config.max_number_of_people) \n",
    "                       & (df['task duration']==1)], \n",
    "                  x='number of people in contact list', \n",
    "                  y='completed task count at tick 100')\n",
    "plt.title(\"organization comprised of \"+str(config.max_number_of_people)+\n",
    "          \" people\\ntask duration = coordination duration\");"
   ]
  },
  {
   "cell_type": "code",
   "execution_count": null,
   "id": "ec03861e-fbb4-450e-a803-8930c6b1b5a2",
   "metadata": {},
   "outputs": [],
   "source": [
    "# https://seaborn.pydata.org/generated/seaborn.swarmplot.html\n",
    "seaborn.swarmplot(df.loc[(df['number of people']==config.max_number_of_people) &\n",
    "                         (df['task duration']==max_task_duration)], \n",
    "                  x='number of people in contact list', \n",
    "                  y='completed task count at tick 100')\n",
    "plt.title(\"organization comprised of \"+str(config.max_number_of_people)+\n",
    "          \" people\\ntask duration = \"+str(max_task_duration)+\n",
    "          \"x coordination duration\");"
   ]
  },
  {
   "cell_type": "code",
   "execution_count": null,
   "id": "4d40a327-2b64-4a8e-ab08-e9b716455b88",
   "metadata": {},
   "outputs": [],
   "source": []
  },
  {
   "cell_type": "code",
   "execution_count": null,
   "id": "7fe36bf3-3707-497a-8fe4-14c38a961893",
   "metadata": {},
   "outputs": [],
   "source": []
  },
  {
   "cell_type": "code",
   "execution_count": null,
   "id": "c583d8ae-0bec-4e02-ac2e-2d6257556869",
   "metadata": {},
   "outputs": [],
   "source": []
  }
 ],
 "metadata": {
  "kernelspec": {
   "display_name": "Python 3 (ipykernel)",
   "language": "python",
   "name": "python3"
  },
  "language_info": {
   "codemirror_mode": {
    "name": "ipython",
    "version": 3
   },
   "file_extension": ".py",
   "mimetype": "text/x-python",
   "name": "python",
   "nbconvert_exporter": "python",
   "pygments_lexer": "ipython3",
   "version": "3.10.8"
  }
 },
 "nbformat": 4,
 "nbformat_minor": 5
}
