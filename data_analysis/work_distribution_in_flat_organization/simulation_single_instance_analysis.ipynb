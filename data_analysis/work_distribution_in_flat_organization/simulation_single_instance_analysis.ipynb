{
 "cells": [
  {
   "cell_type": "markdown",
   "id": "06688f2a-de7c-41c9-a8ab-f5b00359b8bf",
   "metadata": {},
   "source": [
    "# Model of work distribution in a flat organization\n",
    "\n",
    "* no managers; only workers\n",
    "* no support staff; all infrastructure for communication and tasks works without failure\n",
    "* no dark patterns\n",
    "\n",
    "TODO:\n",
    "* use realistic distributions (e.g., power law) instead of uniform\n",
    "* instead of searching randomly, search second-order contacts"
   ]
  },
  {
   "cell_type": "code",
   "execution_count": 1,
   "id": "f3628d47-42cd-4a21-8284-8917f8a5b7a4",
   "metadata": {},
   "outputs": [
    {
     "name": "stdout",
     "output_type": "stream",
     "text": [
      "numpy 1.23.5\n",
      "pandas 1.5.2\n",
      "seaborn 0.12.2\n",
      "matplotlib 3.6.2\n",
      "sys.version_info(major=3, minor=10, micro=8, releaselevel='final', serial=0)\n"
     ]
    }
   ],
   "source": [
    "import random\n",
    "import numpy\n",
    "print(\"numpy\", numpy.__version__)\n",
    "import pandas\n",
    "print(\"pandas\", pandas.__version__)\n",
    "import seaborn\n",
    "print(\"seaborn\", seaborn.__version__)\n",
    "import matplotlib\n",
    "print(\"matplotlib\", matplotlib.__version__)\n",
    "from matplotlib import pyplot as plt\n",
    "import sys\n",
    "print(sys.version_info)"
   ]
  },
  {
   "cell_type": "code",
   "execution_count": null,
   "id": "3b7f06d6-bcf2-4d84-a6c9-5b1ab70cd42c",
   "metadata": {},
   "outputs": [],
   "source": [
    "pandas.set_option('display.max_rows', None)\n",
    "pandas.set_option('display.max_columns', None)"
   ]
  },
  {
   "cell_type": "code",
   "execution_count": null,
   "id": "827117e8-1f8f-42ad-be98-ebdfb71ea2cb",
   "metadata": {},
   "outputs": [],
   "source": [
    "import lib_simulation"
   ]
  },
  {
   "cell_type": "markdown",
   "id": "1413876d-3d14-47fd-a326-43f113e0cac0",
   "metadata": {},
   "source": [
    "### global variables for simulation"
   ]
  },
  {
   "cell_type": "markdown",
   "id": "c8e41950-6d4a-4a42-9bfe-f5e9eff4b85f",
   "metadata": {},
   "source": [
    "#### user-defined"
   ]
  },
  {
   "cell_type": "code",
   "execution_count": null,
   "id": "c24ee218-acb2-439a-a9a5-330b4c50108b",
   "metadata": {},
   "outputs": [],
   "source": [
    "import configuration_simCount1_skills2_levels2_duration1_people8_social0_ticks100 as config\n",
    "\n",
    "#import configuration_simCount1_skills2_levels2_duration1_people8_social2_ticks100 as config"
   ]
  },
  {
   "cell_type": "markdown",
   "id": "27ebf14b-e617-41f3-88a0-59e21a5c5814",
   "metadata": {},
   "source": [
    "### input validation"
   ]
  },
  {
   "cell_type": "code",
   "execution_count": null,
   "id": "d7dbfbb8-e2e0-4436-8b4b-71fe6a107502",
   "metadata": {},
   "outputs": [],
   "source": [
    "if len(config.skill_set_for_people)<1:\n",
    "    raise Exception(\"invalid value\")\n",
    "if len(config.skill_set_for_tasks)<1:\n",
    "    raise Exception(\"invalid value\")\n",
    "    \n",
    "if config.max_skill_level_per_person<1:\n",
    "    raise Exception(\"invalid value\")\n",
    "if config.max_skill_level_per_task<1:\n",
    "    raise Exception(\"invalid value\")\n",
    "if config.max_task_duration_in_ticks<1:\n",
    "    raise Exception(\"invalid value\")\n",
    "    \n",
    "if config.min_number_of_people<1:\n",
    "    raise Exception(\"invalid value\")\n",
    "if config.max_number_of_people<1:\n",
    "    raise Exception(\"invalid value\")\n",
    "if ((config.min_number_of_people) > (config.max_number_of_people)):\n",
    "    print(config.min_number_of_people)\n",
    "    print(config.max_number_of_people)\n",
    "    print((config.min_number_of_people) > (config.max_number_of_people))\n",
    "    raise Exception(\"invalid value\")\n",
    "\n",
    "if config.min_social_circle_size<0:\n",
    "    raise Exception(\"invalid value\")\n",
    "if config.max_social_circle_size<0:\n",
    "    raise Exception(\"invalid value\")\n",
    "if config.min_social_circle_size>config.max_social_circle_size:\n",
    "    print(config.min_social_circle_size)\n",
    "    print(config.max_social_circle_size)\n",
    "    raise Exception(\"invalid value\")\n",
    "    \n",
    "if config.max_ticks_to_simulate<1:\n",
    "    raise Exception(\"invalid value\")"
   ]
  },
  {
   "cell_type": "markdown",
   "id": "892b3d5e-adf6-4c17-9727-4ad44e30d8db",
   "metadata": {},
   "source": [
    "## single instance"
   ]
  },
  {
   "cell_type": "code",
   "execution_count": null,
   "id": "1ae0a6d8-a89b-4772-929f-ebb9a9f90e1f",
   "metadata": {},
   "outputs": [],
   "source": [
    "number_of_people = config.min_number_of_people\n",
    "social_circle_size = config.min_social_circle_size"
   ]
  },
  {
   "cell_type": "code",
   "execution_count": null,
   "id": "481b17d5-c03a-4f1d-8af0-39b7ff85c2e8",
   "metadata": {},
   "outputs": [],
   "source": [
    "list_of_people = []\n",
    "for person_index in range(number_of_people):\n",
    "    list_of_people.append(lib_simulation.CreatePerson(person_index, \n",
    "                                                      config.skill_set_for_people, \n",
    "                                                      config.max_skill_level_per_person))"
   ]
  },
  {
   "cell_type": "code",
   "execution_count": null,
   "id": "2f11c73d-2775-4bd8-b532-1c6affd1de44",
   "metadata": {},
   "outputs": [],
   "source": [
    "lib_simulation.check_population_for_capability(list_of_people,\n",
    "                                               config.skill_set_for_people,\n",
    "                                               config.max_skill_level_per_person)"
   ]
  },
  {
   "cell_type": "markdown",
   "id": "608c6b9a-898d-47bb-972e-87ce36853dba",
   "metadata": {},
   "source": [
    "instead of a static list of tasks to draw from,   \n",
    "create an infinite backlog of work"
   ]
  },
  {
   "cell_type": "markdown",
   "id": "7918ef33-8c50-4408-8b24-b09f9dc2efdc",
   "metadata": {},
   "source": [
    "### Assessment tools"
   ]
  },
  {
   "cell_type": "code",
   "execution_count": null,
   "id": "7478ecd6-9742-4ca3-bc03-e1351f9a0904",
   "metadata": {},
   "outputs": [],
   "source": [
    "lib_simulation.show_all_people(list_of_people)"
   ]
  },
  {
   "cell_type": "code",
   "execution_count": null,
   "id": "80db8d05-22fc-483f-8694-89d3f511d970",
   "metadata": {},
   "outputs": [],
   "source": []
  },
  {
   "cell_type": "code",
   "execution_count": null,
   "id": "ad805365-0c46-4301-af28-cfa7acb22f5b",
   "metadata": {},
   "outputs": [],
   "source": [
    "lib_simulation.current_status_of_people(list_of_people)"
   ]
  },
  {
   "cell_type": "code",
   "execution_count": null,
   "id": "8e0cf1a6-6d4e-4b43-a929-09a5b4f8d336",
   "metadata": {},
   "outputs": [],
   "source": []
  },
  {
   "cell_type": "code",
   "execution_count": null,
   "id": "1d800f18-414a-4a00-ac4f-a5ef5d11dc6b",
   "metadata": {},
   "outputs": [],
   "source": [
    "lib_simulation.cumulative_task_backlog_size(list_of_people)"
   ]
  },
  {
   "cell_type": "markdown",
   "id": "cfde440c-5c94-43d8-b573-1a9f0693fbf8",
   "metadata": {},
   "source": [
    "### Initialize Simulation"
   ]
  },
  {
   "cell_type": "code",
   "execution_count": null,
   "id": "6953ade3-081b-48d5-a90f-6759465b8d24",
   "metadata": {},
   "outputs": [],
   "source": [
    "tasks_dict = {} # track the generated tasks for post-simulation analysis\n",
    "\n",
    "task_id = -1\n",
    "\n",
    "# randomly distribute tasks to people\n",
    "for index in range(len(list_of_people)):\n",
    "    #print('person ID',list_of_people[index].unique_id)\n",
    "    task_id+=1\n",
    "    tasks_dict = lib_simulation.new_task(task_id,\n",
    "                                         config.skill_set_for_tasks,\n",
    "                                         config.max_skill_level_per_task,\n",
    "                                         config.max_task_duration_in_ticks,\n",
    "                                         tasks_dict)\n",
    "    list_of_people[index].backlog_of_tasks.append(tasks_dict[task_id])"
   ]
  },
  {
   "cell_type": "code",
   "execution_count": null,
   "id": "75e8f53b-84a2-49f4-baf0-1d940343247c",
   "metadata": {},
   "outputs": [],
   "source": [
    "lib_simulation.current_status_of_people(list_of_people)"
   ]
  },
  {
   "cell_type": "markdown",
   "id": "ab2121eb-fde7-44ac-be1d-326abc309bc1",
   "metadata": {},
   "source": [
    "### Begin ticks of Simulation"
   ]
  },
  {
   "cell_type": "code",
   "execution_count": null,
   "id": "b5a0c54a-39f3-4769-b15a-9a5455b0b423",
   "metadata": {
    "tags": []
   },
   "outputs": [],
   "source": [
    "list_of_people, tasks_dict = lib_simulation.simulate(config.skill_set_for_tasks,\n",
    "                                                     config.max_skill_level_per_task,\n",
    "                                                     config.max_ticks_to_simulate,\n",
    "                                                     config.max_task_duration_in_ticks,\n",
    "                                                     list_of_people,\n",
    "                                                     tasks_dict)"
   ]
  },
  {
   "cell_type": "markdown",
   "id": "e0f040fc-bb84-47ab-8914-d66f19718ae2",
   "metadata": {},
   "source": [
    "## Post-simulation analysis"
   ]
  },
  {
   "cell_type": "markdown",
   "id": "264fc4fd-0788-4add-9105-8183ae050cc6",
   "metadata": {},
   "source": [
    "### a single person"
   ]
  },
  {
   "cell_type": "code",
   "execution_count": null,
   "id": "8b0cdb35-1ac6-4ccb-9452-f9669402ceb9",
   "metadata": {
    "tags": []
   },
   "outputs": [],
   "source": [
    "list_of_dicts = []\n",
    "for tick_index, journal_dict in list_of_people[0].work_journal_per_tick.items():\n",
    "    #print(tick_index)\n",
    "    this_dict = {'tick': tick_index}\n",
    "    for k,v in journal_dict.items():\n",
    "        if k == \"task\":\n",
    "            for task_k, task_v in v.items():\n",
    "                this_dict[task_k] = task_v\n",
    "        else:    \n",
    "            this_dict[k] = v\n",
    "    #print(this_dict)\n",
    "    list_of_dicts.append(this_dict)"
   ]
  },
  {
   "cell_type": "code",
   "execution_count": null,
   "id": "01a68590-d387-4e6b-803c-1e6584cec064",
   "metadata": {},
   "outputs": [],
   "source": [
    "list_of_people[0].skill_specialization_dict"
   ]
  },
  {
   "cell_type": "code",
   "execution_count": null,
   "id": "616d55f7-2ee1-4191-834e-e4091be39242",
   "metadata": {
    "tags": []
   },
   "outputs": [],
   "source": [
    "df_a_persons_journal = pandas.DataFrame(list_of_dicts)\n",
    "df_a_persons_journal"
   ]
  },
  {
   "cell_type": "markdown",
   "id": "10933a26-eac3-4c4a-b9d0-4aeed6613b8c",
   "metadata": {},
   "source": [
    "# Visualization of the Simulation"
   ]
  },
  {
   "cell_type": "code",
   "execution_count": null,
   "id": "88884ada-9553-4f5e-b2ac-1f8de7940b50",
   "metadata": {
    "tags": []
   },
   "outputs": [],
   "source": [
    "for index,person in enumerate(list_of_people):\n",
    "    print(index,person.skill_specialization_dict)"
   ]
  },
  {
   "cell_type": "code",
   "execution_count": null,
   "id": "c7580c6b-478f-437c-9057-36c8f535b490",
   "metadata": {},
   "outputs": [],
   "source": [
    "# TODO: A heat map of the ensemble of people for specializations and skill levels"
   ]
  },
  {
   "cell_type": "code",
   "execution_count": null,
   "id": "b662e5f3-4c4a-4d79-92fc-53e8b88f6988",
   "metadata": {},
   "outputs": [],
   "source": [
    "aggregate_person_dict = {}\n",
    "for specialization in config.skill_set_for_people:\n",
    "    aggregate_person_dict[specialization] = [0 for _ in range(config.max_skill_level_per_person)]\n",
    "\n",
    "#aggregate_person_dict"
   ]
  },
  {
   "cell_type": "code",
   "execution_count": null,
   "id": "5f3daf95-fb4f-48c2-b0bc-971d9da784de",
   "metadata": {},
   "outputs": [],
   "source": [
    "for person_id, person in enumerate(list_of_people):\n",
    "    for specialization, skilllevel in person.skill_specialization_dict.items():\n",
    "        #print(person_id, specialization, skilllevel)\n",
    "        if skilllevel>0:\n",
    "            aggregate_person_dict[specialization][skilllevel-1] += 1\n",
    "        #print(aggregate_person_dict)\n",
    "        \n",
    "#aggregate_person_dict"
   ]
  },
  {
   "cell_type": "code",
   "execution_count": null,
   "id": "afc64adb-e8b7-43e4-a351-72e6047a22c3",
   "metadata": {},
   "outputs": [],
   "source": [
    "df_cumulative_people = pandas.DataFrame(aggregate_person_dict)\n",
    "# https://pandas.pydata.org/docs/reference/api/pandas.DataFrame.set_index.html\n",
    "df_cumulative_people.set_index(pandas.Index(list(range(1,config.max_skill_level_per_person+1))))\n",
    "df_cumulative_people"
   ]
  },
  {
   "cell_type": "code",
   "execution_count": null,
   "id": "ee5a0619-a8b9-49dd-8f6d-573bc4425ed6",
   "metadata": {},
   "outputs": [],
   "source": [
    "# https://stackoverflow.com/a/34712544/1164295\n",
    "seaborn.set(font_scale=1.5)\n",
    "# https://stackoverflow.com/a/57266083/1164295\n",
    "seaborn.heatmap(df_cumulative_people, \n",
    "                annot=True, \n",
    "                fmt=\"d\",\n",
    "                yticklabels=df_cumulative_people.index, \n",
    "                cmap='Blues', \n",
    "                linewidths=1, \n",
    "                linecolor='black');\n",
    "plt.title(\"Cumulative counts across all people\")\n",
    "plt.gca().set_xlabel('Specialization', fontsize=15);\n",
    "plt.gca().set_ylabel('Skill-level', fontsize=15);"
   ]
  },
  {
   "cell_type": "code",
   "execution_count": null,
   "id": "b5b1733b-b476-4102-a987-762553ae7179",
   "metadata": {},
   "outputs": [],
   "source": [
    "# TODO: A heat map of the ensemble of task per specializations in skill levels"
   ]
  },
  {
   "cell_type": "code",
   "execution_count": null,
   "id": "bd9f9ccf-8a08-4b7a-ba5e-557af18efabb",
   "metadata": {},
   "outputs": [],
   "source": [
    "aggregate_task_dict = {}\n",
    "for specialization in config.skill_set_for_tasks:\n",
    "    aggregate_task_dict[specialization] = [0 for _ in range(config.max_skill_level_per_task)]\n",
    "\n",
    "aggregate_task_dict"
   ]
  },
  {
   "cell_type": "code",
   "execution_count": null,
   "id": "7ff9a3f0-b3e6-4c44-b2fa-835104ba5a17",
   "metadata": {
    "tags": []
   },
   "outputs": [],
   "source": [
    "for task_id,this_task in tasks_dict.items():\n",
    "    #print('specialization:',task['specialization'])\n",
    "    #print('skill-level:',task['skill level'])\n",
    "    if this_task['skill level']>0:\n",
    "        aggregate_task_dict[this_task['specialization']][this_task['skill level']-1] += 1"
   ]
  },
  {
   "cell_type": "code",
   "execution_count": null,
   "id": "fa1ce2a5-4966-4911-a2ab-9ab62e402cc1",
   "metadata": {},
   "outputs": [],
   "source": [
    "df_cumulative_tasks = pandas.DataFrame(aggregate_task_dict)\n",
    "# https://pandas.pydata.org/docs/reference/api/pandas.DataFrame.set_index.html\n",
    "df_cumulative_tasks = df_cumulative_tasks.set_index(pandas.Index(list(range(1,config.max_skill_level_per_task+1))))"
   ]
  },
  {
   "cell_type": "code",
   "execution_count": null,
   "id": "d1e7c7df-e40f-49eb-b61c-5777ea8c80b2",
   "metadata": {
    "tags": []
   },
   "outputs": [],
   "source": [
    "# https://seaborn.pydata.org/generated/seaborn.heatmap.html\n",
    "\n",
    "# https://matplotlib.org/stable/gallery/images_contours_and_fields/image_annotated_heatmap.html\n",
    "\n",
    "# https://stackoverflow.com/a/34712544/1164295\n",
    "seaborn.set(font_scale=1.5)\n",
    "# https://stackoverflow.com/a/57266083/1164295\n",
    "seaborn.heatmap(df_cumulative_tasks, \n",
    "                annot=True, \n",
    "                fmt=\"d\",\n",
    "                yticklabels=df_cumulative_tasks.index, \n",
    "                cmap='Blues', \n",
    "                linewidths=1, \n",
    "                linecolor='black');\n",
    "plt.title(\"Cumulative counts across all tasks\")\n",
    "plt.gca().set_xlabel('Specialization', fontsize=15);\n",
    "plt.gca().set_ylabel('Skill-level', fontsize=15);"
   ]
  },
  {
   "cell_type": "code",
   "execution_count": null,
   "id": "75defcf1-b194-4f90-94e3-326354c59763",
   "metadata": {},
   "outputs": [],
   "source": [
    "# TODO: Heat map with axes of time and person index, \n",
    "# with the color being the length of the backlog per person per time"
   ]
  },
  {
   "cell_type": "code",
   "execution_count": null,
   "id": "5f788011-5a14-45f6-b570-4be72a15d393",
   "metadata": {
    "tags": []
   },
   "outputs": [],
   "source": [
    "person_time_backlog_dict = {}\n",
    "for person_index in range(len(list_of_people)):\n",
    "    \n",
    "    description=\"\"\n",
    "    for specialization,skilllevel in list_of_people[person_index].skill_specialization_dict.items():\n",
    "        description+=specialization+str(skilllevel)+\",\"\n",
    "    \n",
    "    person_label = str(person_index)+\": \"+description[:-1]\n",
    "    \n",
    "    person_time_backlog_dict[person_label] = []\n",
    "    for tick_index, journal_dict in list_of_people[person_index].work_journal_per_tick.items():\n",
    "        #print(person_id, tick_index, journal_dict['number of tasks in backlog'])\n",
    "        person_time_backlog_dict[person_label].append(journal_dict['number of tasks in backlog'])"
   ]
  },
  {
   "cell_type": "code",
   "execution_count": null,
   "id": "cc5a4e43-4e00-4611-984d-b7a05ed81863",
   "metadata": {
    "tags": []
   },
   "outputs": [],
   "source": [
    "df_person_time_backlog = pandas.DataFrame(person_time_backlog_dict)\n",
    "#df_person_time_backlog"
   ]
  },
  {
   "cell_type": "code",
   "execution_count": null,
   "id": "e5edd062-8cd4-480b-ad3f-0f8067bc1cc2",
   "metadata": {},
   "outputs": [],
   "source": [
    "# https://seaborn.pydata.org/generated/seaborn.heatmap.html\n",
    "\n",
    "seaborn.heatmap(df_person_time_backlog)\n",
    "plt.title('backlog length per person')\n",
    "plt.gca().set_xlabel('person', fontsize=15);\n",
    "plt.gca().set_ylabel('time [ticks]', fontsize=15);"
   ]
  },
  {
   "cell_type": "markdown",
   "id": "d14e0fe2-6fdb-4cb7-8ec2-269621ab2a73",
   "metadata": {},
   "source": [
    "## task ID per person versus time"
   ]
  },
  {
   "cell_type": "code",
   "execution_count": null,
   "id": "f1e8266b-38c4-4944-8e31-e4f37eebed56",
   "metadata": {
    "tags": []
   },
   "outputs": [],
   "source": [
    "person_time_taskID_dict = {}\n",
    "for person_id, person in enumerate(list_of_people):\n",
    "    person_time_taskID_dict[person_id] = []\n",
    "    for tick, work_dict in person.work_journal_per_tick.items():\n",
    "        #print(work_dict)\n",
    "        person_time_taskID_dict[person_id].append(work_dict['task']['task ID'])"
   ]
  },
  {
   "cell_type": "code",
   "execution_count": null,
   "id": "6cd24033-f350-42ac-8958-538932ce35c4",
   "metadata": {
    "tags": []
   },
   "outputs": [],
   "source": [
    "df_person_time_taskID = pandas.DataFrame(person_time_taskID_dict)\n",
    "df_person_time_taskID"
   ]
  },
  {
   "cell_type": "code",
   "execution_count": null,
   "id": "e15191f4-1b0b-4570-9a80-d7210d1c1c5e",
   "metadata": {},
   "outputs": [],
   "source": [
    "# https://seaborn.pydata.org/generated/seaborn.heatmap.html\n",
    "\n",
    "seaborn.heatmap(df_person_time_taskID)\n",
    "plt.title('task ID')\n",
    "plt.gca().set_xlabel('person', fontsize=15);\n",
    "plt.gca().set_ylabel('time [ticks]', fontsize=15);"
   ]
  },
  {
   "cell_type": "markdown",
   "id": "cc622724-77a6-4116-adfa-99864c65d034",
   "metadata": {},
   "source": [
    "# ratio of the elapsed time for a task versus the number task for task."
   ]
  },
  {
   "cell_type": "code",
   "execution_count": null,
   "id": "9137e4f3-e140-4af5-a338-006c454c1698",
   "metadata": {},
   "outputs": [],
   "source": [
    "min(df_person_time_taskID.min())"
   ]
  },
  {
   "cell_type": "code",
   "execution_count": null,
   "id": "8ef6b644-d34b-45ec-8925-e070ae79f830",
   "metadata": {},
   "outputs": [],
   "source": [
    "elapsed_task_timing = {}\n",
    "# https://pandas.pydata.org/docs/reference/api/pandas.DataFrame.max.html\n",
    "for task_id in range(min(df_person_time_taskID.min()),\n",
    "                     max(df_person_time_taskID.max())):\n",
    "    # https://pandas.pydata.org/docs/reference/api/pandas.DataFrame.dropna.html\n",
    "    list_of_ticks_containing_task = list(df_person_time_taskID[\n",
    "        df_person_time_taskID==task_id].dropna(axis=0,how='all').index)\n",
    "    \n",
    "    #assert(task_id==list_of_tasks[task_id-1]['task ID'])\n",
    "    \n",
    "    elapsed_task_timing[task_id] = {'first seen': min(list_of_ticks_containing_task),\n",
    "                                    'last seen': max(list_of_ticks_containing_task),\n",
    "                                    'task duration': 1}"
   ]
  },
  {
   "cell_type": "code",
   "execution_count": null,
   "id": "04742a40-4a37-477e-9461-2b7d621c91a9",
   "metadata": {
    "tags": []
   },
   "outputs": [],
   "source": [
    "df_task_timing = pandas.DataFrame(elapsed_task_timing).T\n",
    "df_task_timing['task actual duration'] = df_task_timing['last seen'] - df_task_timing['first seen']+1\n",
    "df_task_timing['ratio of actual to minimum'] = df_task_timing['task actual duration']/df_task_timing['task duration']\n",
    "#df_task_timing"
   ]
  },
  {
   "cell_type": "code",
   "execution_count": null,
   "id": "97bf0caf-9e6a-4d97-afd6-a18eae807920",
   "metadata": {},
   "outputs": [],
   "source": [
    "print(\"when the temporal cost of coordination is the same as just doing the work,\")\n",
    "print(\"with\",number_of_people,\"people the workload took\",\n",
    "      round(sum(df_task_timing['task actual duration'])/sum(df_task_timing['task duration']),2))\n",
    "print(\"longer than if one qualified person had been assigned the same workload\")"
   ]
  },
  {
   "cell_type": "code",
   "execution_count": null,
   "id": "4c111fc7-18d1-4c97-8b12-c92632234b1a",
   "metadata": {},
   "outputs": [],
   "source": [
    "# TODO: Heat map with axes of time and person index, \n",
    "# with the color being the status (working, idle, coordinating)"
   ]
  },
  {
   "cell_type": "code",
   "execution_count": null,
   "id": "2e3b93c4-5c91-4c9d-ae96-21ba4d522c8a",
   "metadata": {},
   "outputs": [],
   "source": [
    "# TODO: A pie chart of the named persona types like unicorn and specialist. \n",
    "# The biggest piece of pie will be the others"
   ]
  },
  {
   "cell_type": "markdown",
   "id": "c461127a-f845-4b5a-855a-db7add98ffe7",
   "metadata": {},
   "source": [
    "## task throughput vs time"
   ]
  },
  {
   "cell_type": "code",
   "execution_count": null,
   "id": "6ada3610-e850-4e40-854e-912968afbc8b",
   "metadata": {
    "tags": []
   },
   "outputs": [],
   "source": [
    "task_count_per_time_dict = {}\n",
    "for person_id, person in enumerate(list_of_people):\n",
    "    for tick, work_dict in person.work_journal_per_tick.items():\n",
    "        if tick not in task_count_per_time_dict.keys():\n",
    "            task_count_per_time_dict[tick] = 0\n",
    "            \n",
    "        if \"task from\" in work_dict.keys():\n",
    "            #print(person_id, tick, work_dict[\"task from\"])\n",
    "            task_count_per_time_dict[tick] += 1"
   ]
  },
  {
   "cell_type": "code",
   "execution_count": null,
   "id": "76b9dab7-db9b-4476-818d-1e4f9f39a9ff",
   "metadata": {},
   "outputs": [],
   "source": [
    "plt.scatter(x=task_count_per_time_dict.keys(), \n",
    "            y=task_count_per_time_dict.values())\n",
    "plt.ylabel('number of tasks\\nstarted during this tick')\n",
    "plt.xlabel('time [ticks]');"
   ]
  },
  {
   "cell_type": "code",
   "execution_count": null,
   "id": "80cf7993-7329-4203-8747-ac7d99c24c15",
   "metadata": {},
   "outputs": [],
   "source": [
    "plt.scatter(x=list(task_count_per_time_dict.keys()), \n",
    "            y=list(numpy.cumsum(list(task_count_per_time_dict.values()))),\n",
    "            label=\"number of people=\"+str(number_of_people))\n",
    "\n",
    "plt.ylabel('cumulative task count')\n",
    "plt.xlabel('time [ticks]');\n",
    "plt.legend();"
   ]
  },
  {
   "cell_type": "markdown",
   "id": "b095b9b5-59b7-4b61-bd8f-a3bb81d811ee",
   "metadata": {},
   "source": [
    "# The reward for good work is more work"
   ]
  },
  {
   "cell_type": "code",
   "execution_count": null,
   "id": "3e72a12f-55ed-4272-8d6e-9a5382ef0702",
   "metadata": {},
   "outputs": [],
   "source": [
    "people_versus_time_task_count={}\n",
    "for person_id, person in enumerate(list_of_people):\n",
    "    people_versus_time_task_count[person_id] = []\n",
    "    completed_task_count = 0\n",
    "    for tick, work_dict in person.work_journal_per_tick.items():\n",
    "        if work_dict['outcome']=='task completed':\n",
    "            completed_task_count+=1\n",
    "        people_versus_time_task_count[person_id].append(completed_task_count)"
   ]
  },
  {
   "cell_type": "code",
   "execution_count": null,
   "id": "a266a5d6-4646-4cee-a57f-96d05467e047",
   "metadata": {},
   "outputs": [],
   "source": []
  },
  {
   "cell_type": "code",
   "execution_count": null,
   "id": "374a4ace-d474-4d7b-bbd3-c3ee7948465e",
   "metadata": {
    "tags": []
   },
   "outputs": [],
   "source": [
    "list_of_labels = []\n",
    "list_of_task_counts = []\n",
    "\n",
    "for person_index, completed_task_count in people_versus_time_task_count.items():\n",
    "    description=\"\"\n",
    "    for specialization,skilllevel in list_of_people[person_index].skill_specialization_dict.items():\n",
    "        description+=specialization+str(skilllevel)+\",\"\n",
    "\n",
    "    person_label = \"person \"+str(person_index)+\": \"+description[:-1]\n",
    "    \n",
    "    # these two lists are not used in this cell; they are for the stacked plot\n",
    "    list_of_labels.append(person_label)\n",
    "    list_of_task_counts.append(completed_task_count)\n",
    "        \n",
    "    plt.scatter(x=range(len(completed_task_count)),\n",
    "                y=completed_task_count, \n",
    "                label=person_label)\n",
    "    \n",
    "# https://stackoverflow.com/a/4701285\n",
    "plt.gca().legend(loc='center left', bbox_to_anchor=(1, 0.5))\n",
    "plt.xlabel('time [ticks]')\n",
    "plt.ylabel('cumulative count\\nof completed tasks');\n",
    "plt.title('social circle size ='+str(social_circle_size));"
   ]
  },
  {
   "cell_type": "markdown",
   "id": "bdec44f5-5bfe-4ebd-b8ef-52d918b12d40",
   "metadata": {},
   "source": [
    "## work done per person"
   ]
  },
  {
   "cell_type": "code",
   "execution_count": null,
   "id": "c2d9d2ba-d796-49cb-92c1-8fabb1a6527f",
   "metadata": {},
   "outputs": [],
   "source": [
    "# https://www.python-graph-gallery.com/251-stacked-area-chart-with-seaborn-style\n",
    "# https://www.python-graph-gallery.com/250-basic-stacked-area-chart\n",
    "\n",
    "# set seaborn style\n",
    "seaborn.set_theme()\n",
    "    \n",
    "plt.stackplot(range(len(completed_task_count)),\n",
    "              list_of_task_counts,\n",
    "              labels=list_of_labels)\n",
    "    \n",
    "# https://stackoverflow.com/a/4701285\n",
    "plt.gca().legend(loc='center left', bbox_to_anchor=(1, 0.5))\n",
    "plt.xlabel('time [ticks]')\n",
    "plt.ylabel('cumulative count\\nof completed tasks');\n",
    "plt.title('social circle size ='+str(social_circle_size));"
   ]
  },
  {
   "cell_type": "markdown",
   "id": "1df08bf5-23f0-4b37-952c-44ef6f7e7adf",
   "metadata": {},
   "source": [
    "## percentage stacked area chart\n",
    "\n",
    "https://www.python-graph-gallery.com/255-percentage-stacked-area-chart"
   ]
  },
  {
   "cell_type": "code",
   "execution_count": null,
   "id": "7d7ef872-3d42-40a3-81b6-7715f4bcb5ad",
   "metadata": {},
   "outputs": [],
   "source": [
    "task_dict = {}\n",
    "for person_index, cumulative_task_count in enumerate(list_of_task_counts):\n",
    "    task_dict[person_index] = cumulative_task_count\n",
    "    \n",
    "df_task_cumulative_count = pandas.DataFrame(task_dict)"
   ]
  },
  {
   "cell_type": "code",
   "execution_count": null,
   "id": "039686b0-bd27-4cbc-acd8-533b81ab6e36",
   "metadata": {},
   "outputs": [],
   "source": [
    "# https://stackoverflow.com/a/46738366\n",
    "\n",
    "df_task_cumulative_percent = df_task_cumulative_count.divide(df_task_cumulative_count.sum(axis=1), axis=0)\n",
    "  \n",
    "#plot_me = df_task_cumulative_percent.T\n",
    "\n",
    "#plot_me = df_task_cumulative_percent[df_task_cumulative_percent.columns[::-1]]\n",
    "\n",
    "#plot_me[plot_me.columns[::-1]]\n",
    "\n",
    "#df_to_plot = df_task_cumulative_percent.T\n",
    "\n",
    "\n",
    "# https://stackoverflow.com/a/27817770"
   ]
  },
  {
   "cell_type": "raw",
   "id": "9f724318-ff5f-4dce-9eb8-4eb212cc7d50",
   "metadata": {},
   "source": [
    "list_of_labels.reverse()"
   ]
  },
  {
   "cell_type": "code",
   "execution_count": null,
   "id": "59b949ed-8647-4e1b-8959-113fcd661337",
   "metadata": {},
   "outputs": [],
   "source": [
    "plt.stackplot(range(len(completed_task_count)),\n",
    "              #df_task_cumulative_percent[df_task_cumulative_percent.columns[::-1]].T,\n",
    "              df_task_cumulative_percent.T,\n",
    "              #plot_me.T,\n",
    "              #df_task_cumulative_percent[df_task_cumulative_percent.columns[::-1]].T,\n",
    "              labels=list_of_labels)\n",
    "    \n",
    "# https://stackoverflow.com/a/4701285\n",
    "plt.gca().legend(loc='center left', bbox_to_anchor=(1, 0.5))\n",
    "plt.xlabel('time [ticks]')\n",
    "plt.ylabel('percent of\\ncompleted tasks');\n",
    "plt.title('social circle size ='+str(social_circle_size));"
   ]
  },
  {
   "cell_type": "markdown",
   "id": "cf9b4d13-7ed6-4805-ad70-aae8404c6095",
   "metadata": {},
   "source": [
    "# TODO: https://en.wikipedia.org/wiki/Little%27s_law"
   ]
  },
  {
   "cell_type": "code",
   "execution_count": null,
   "id": "910a9c77-a7e3-4ad4-a36e-f2eff3a0bbea",
   "metadata": {},
   "outputs": [],
   "source": []
  }
 ],
 "metadata": {
  "kernelspec": {
   "display_name": "Python 3 (ipykernel)",
   "language": "python",
   "name": "python3"
  },
  "language_info": {
   "codemirror_mode": {
    "name": "ipython",
    "version": 3
   },
   "file_extension": ".py",
   "mimetype": "text/x-python",
   "name": "python",
   "nbconvert_exporter": "python",
   "pygments_lexer": "ipython3",
   "version": "3.10.8"
  }
 },
 "nbformat": 4,
 "nbformat_minor": 5
}
