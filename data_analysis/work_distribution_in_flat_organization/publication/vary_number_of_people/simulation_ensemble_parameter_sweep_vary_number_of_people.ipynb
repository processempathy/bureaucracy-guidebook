{
 "cells": [
  {
   "cell_type": "markdown",
   "id": "06688f2a-de7c-41c9-a8ab-f5b00359b8bf",
   "metadata": {},
   "source": [
    "# Model of work distribution in a flat organization\n",
    "\n",
    "* no hierarchy\n",
    "* no support staff; all infrastructure for communication and tasks works without failure\n",
    "* no dark patterns\n",
    "\n",
    "TODO:\n",
    "* use realistic distributions (e.g., power law, Poisson) instead of uniform\n",
    "* instead of searching randomly after exhausting the people in list of contacts, search second-order contacts\n",
    "* A potential feature addition to the numerical model would be the trade-off available for training. Training could result in either an increased diversification of specializations for a given employee or a more skilled employee. Time spent in training is time spent not working. But the result of the training would be improved capacity for work"
   ]
  },
  {
   "cell_type": "code",
   "execution_count": 1,
   "id": "f3628d47-42cd-4a21-8284-8917f8a5b7a4",
   "metadata": {},
   "outputs": [
    {
     "name": "stdout",
     "output_type": "stream",
     "text": [
      "numpy 1.23.5\n",
      "pandas 1.5.2\n",
      "seaborn 0.12.2\n",
      "matplotlib 3.6.2\n",
      "sys.version_info(major=3, minor=10, micro=8, releaselevel='final', serial=0)\n"
     ]
    }
   ],
   "source": [
    "import random\n",
    "import numpy\n",
    "print(\"numpy\", numpy.__version__)\n",
    "import pandas\n",
    "print(\"pandas\", pandas.__version__)\n",
    "import seaborn\n",
    "print(\"seaborn\", seaborn.__version__)\n",
    "import matplotlib\n",
    "print(\"matplotlib\", matplotlib.__version__)\n",
    "from matplotlib import pyplot as plt\n",
    "import time\n",
    "import sys\n",
    "print(sys.version_info)"
   ]
  },
  {
   "cell_type": "code",
   "execution_count": 2,
   "id": "3b7f06d6-bcf2-4d84-a6c9-5b1ab70cd42c",
   "metadata": {},
   "outputs": [],
   "source": [
    "pandas.set_option('display.max_rows', None)\n",
    "pandas.set_option('display.max_columns', None)"
   ]
  },
  {
   "cell_type": "code",
   "execution_count": 3,
   "id": "7086bc07-6c59-445b-9b1f-e0df4f94d568",
   "metadata": {},
   "outputs": [],
   "source": [
    "# Set the random seed value so that stochastic processes are repeatable\n",
    "random.seed(10)"
   ]
  },
  {
   "cell_type": "code",
   "execution_count": 4,
   "id": "827117e8-1f8f-42ad-be98-ebdfb71ea2cb",
   "metadata": {},
   "outputs": [],
   "source": [
    "import sys\n",
    "sys.path.insert(0,'../..')\n",
    "\n",
    "import lib_simulation"
   ]
  },
  {
   "cell_type": "markdown",
   "id": "1413876d-3d14-47fd-a326-43f113e0cac0",
   "metadata": {},
   "source": [
    "### global variables for simulation"
   ]
  },
  {
   "cell_type": "code",
   "execution_count": 5,
   "id": "a48d7451-607a-4ac7-8565-964a8026b15c",
   "metadata": {},
   "outputs": [],
   "source": [
    "show_output_for_debug = False"
   ]
  },
  {
   "cell_type": "markdown",
   "id": "c8e41950-6d4a-4a42-9bfe-f5e9eff4b85f",
   "metadata": {},
   "source": [
    "#### user-defined"
   ]
  },
  {
   "cell_type": "code",
   "execution_count": 6,
   "id": "c24ee218-acb2-439a-a9a5-330b4c50108b",
   "metadata": {},
   "outputs": [],
   "source": [
    "import PUBLICATION_configuration_simCount25_skills2_levels1_duration1_people2to10_social0_ticks100 as config\n",
    "\n",
    "#import configuration_simCount25_skills3_levels3_duration1_people2to10_social0to8_ticks100 as config"
   ]
  },
  {
   "cell_type": "markdown",
   "id": "27ebf14b-e617-41f3-88a0-59e21a5c5814",
   "metadata": {},
   "source": [
    "### input validation"
   ]
  },
  {
   "cell_type": "code",
   "execution_count": 7,
   "id": "d7dbfbb8-e2e0-4436-8b4b-71fe6a107502",
   "metadata": {},
   "outputs": [],
   "source": [
    "if len(config.skill_set_for_people)<1:\n",
    "    raise Exception(\"invalid value\")\n",
    "if len(config.skill_set_for_tasks)<1:\n",
    "    raise Exception(\"invalid value\")\n",
    "    \n",
    "if config.max_skill_level_per_person<1:\n",
    "    raise Exception(\"invalid value\")\n",
    "if config.max_skill_level_per_task<1:\n",
    "    raise Exception(\"invalid value\")\n",
    "if config.max_task_duration_in_ticks<1:\n",
    "    raise Exception(\"invalid value\")\n",
    "    \n",
    "if config.min_number_of_people<1:\n",
    "    raise Exception(\"invalid value\")\n",
    "if config.max_number_of_people<1:\n",
    "    raise Exception(\"invalid value\")\n",
    "if ((config.min_number_of_people) > (config.max_number_of_people)):\n",
    "    print(config.min_number_of_people)\n",
    "    print(config.max_number_of_people)\n",
    "    print((config.min_number_of_people) > (config.max_number_of_people))\n",
    "    raise Exception(\"invalid value\")\n",
    "\n",
    "if config.min_social_circle_size<0:\n",
    "    raise Exception(\"invalid value\")\n",
    "if config.max_social_circle_size<0:\n",
    "    raise Exception(\"invalid value\")\n",
    "if config.min_social_circle_size>config.max_social_circle_size:\n",
    "    print(config.min_social_circle_size)\n",
    "    print(config.max_social_circle_size)\n",
    "    raise Exception(\"invalid value\")\n",
    "    \n",
    "if config.max_ticks_to_simulate<1:\n",
    "    raise Exception(\"invalid value\")\n",
    "    \n",
    "if config.number_of_simulations<1:\n",
    "    raise Exception(\"invalid value\")"
   ]
  },
  {
   "cell_type": "markdown",
   "id": "cfde440c-5c94-43d8-b573-1a9f0693fbf8",
   "metadata": {},
   "source": [
    "### Simulate"
   ]
  },
  {
   "cell_type": "code",
   "execution_count": 8,
   "id": "b5a0c54a-39f3-4769-b15a-9a5455b0b423",
   "metadata": {
    "tags": []
   },
   "outputs": [
    {
     "name": "stdout",
     "output_type": "stream",
     "text": [
      "number of people: 2 0.0 seconds\n",
      "number of people: 3 0.14 seconds\n",
      "number of people: 4 0.3 seconds\n",
      "number of people: 5 0.43 seconds\n",
      "number of people: 6 0.6 seconds\n",
      "number of people: 7 0.91 seconds\n",
      "number of people: 8 1.24 seconds\n",
      "number of people: 9 1.59 seconds\n",
      "number of people: 10 2.07 seconds\n"
     ]
    }
   ],
   "source": [
    "list_of_dicts = []\n",
    "\n",
    "start_time = time.time()\n",
    "for number_of_people in range(config.min_number_of_people,config.max_number_of_people+1):\n",
    "    print(\"number of people:\",number_of_people,round(time.time()-start_time,2),\"seconds\")\n",
    "    if True:\n",
    "        if True:\n",
    "            for sim_index in range(config.number_of_simulations+1):\n",
    "                #print(\"      sim index:\",sim_index,round(time.time()-start_time,2),\"seconds\")\n",
    "                this_sim_dict = {'sim index': sim_index}\n",
    "\n",
    "                list_of_people = []\n",
    "                for person_index in range(number_of_people):\n",
    "                    list_of_people.append(lib_simulation.CreatePerson(person_index, \n",
    "                                                                      config.skill_set_for_people, \n",
    "                                                                      config.max_skill_level_per_person))\n",
    "\n",
    "\n",
    "\n",
    "                list_of_people, tasks_dict = lib_simulation.simulate(config.skill_set_for_tasks,\n",
    "                                                                     config.max_skill_level_per_task,\n",
    "                                                                     config.max_ticks_to_simulate,\n",
    "                                                                     config.max_task_duration_in_ticks,\n",
    "                                                                     config.min_social_circle_size,\n",
    "                                                                     list_of_people,\n",
    "                                                                     show_narrative=False, # show narrative\n",
    "                                                                     work_journal=False) # work journal\n",
    "    \n",
    "                this_sim_dict['completed task count at tick '+str(config.max_ticks_to_simulate)] = len(tasks_dict.keys())\n",
    "                this_sim_dict['number of people'] =number_of_people\n",
    "                this_sim_dict['number of people in contact list'] = config.min_social_circle_size\n",
    "                this_sim_dict['task duration'] = config.max_task_duration_in_ticks\n",
    "                this_sim_dict['aggregate person skills'] = lib_simulation.get_aggregate_person_dict(list_of_people,\n",
    "                                                                                                    config.skill_set_for_people,\n",
    "                                                                                                    config.max_skill_level_per_person)\n",
    "                list_of_dicts.append(this_sim_dict)"
   ]
  },
  {
   "cell_type": "markdown",
   "id": "e0f040fc-bb84-47ab-8914-d66f19718ae2",
   "metadata": {},
   "source": [
    "## Post-simulation analysis"
   ]
  },
  {
   "cell_type": "code",
   "execution_count": 9,
   "id": "8b34821b-7779-44a2-b69b-d632dd3f7da2",
   "metadata": {
    "tags": []
   },
   "outputs": [
    {
     "data": {
      "text/html": [
       "<div>\n",
       "<style scoped>\n",
       "    .dataframe tbody tr th:only-of-type {\n",
       "        vertical-align: middle;\n",
       "    }\n",
       "\n",
       "    .dataframe tbody tr th {\n",
       "        vertical-align: top;\n",
       "    }\n",
       "\n",
       "    .dataframe thead th {\n",
       "        text-align: right;\n",
       "    }\n",
       "</style>\n",
       "<table border=\"1\" class=\"dataframe\">\n",
       "  <thead>\n",
       "    <tr style=\"text-align: right;\">\n",
       "      <th></th>\n",
       "      <th>sim index</th>\n",
       "      <th>completed task count at tick 100</th>\n",
       "      <th>number of people</th>\n",
       "      <th>number of people in contact list</th>\n",
       "      <th>task duration</th>\n",
       "      <th>aggregate person skills</th>\n",
       "    </tr>\n",
       "  </thead>\n",
       "  <tbody>\n",
       "    <tr>\n",
       "      <th>0</th>\n",
       "      <td>0</td>\n",
       "      <td>131</td>\n",
       "      <td>2</td>\n",
       "      <td>0</td>\n",
       "      <td>1</td>\n",
       "      <td>{'A': [1], 'B': [1]}</td>\n",
       "    </tr>\n",
       "    <tr>\n",
       "      <th>1</th>\n",
       "      <td>1</td>\n",
       "      <td>102</td>\n",
       "      <td>2</td>\n",
       "      <td>0</td>\n",
       "      <td>1</td>\n",
       "      <td>{'A': [1], 'B': [1]}</td>\n",
       "    </tr>\n",
       "    <tr>\n",
       "      <th>2</th>\n",
       "      <td>2</td>\n",
       "      <td>102</td>\n",
       "      <td>2</td>\n",
       "      <td>0</td>\n",
       "      <td>1</td>\n",
       "      <td>{'A': [1], 'B': [1]}</td>\n",
       "    </tr>\n",
       "    <tr>\n",
       "      <th>3</th>\n",
       "      <td>3</td>\n",
       "      <td>155</td>\n",
       "      <td>2</td>\n",
       "      <td>0</td>\n",
       "      <td>1</td>\n",
       "      <td>{'A': [1], 'B': [2]}</td>\n",
       "    </tr>\n",
       "    <tr>\n",
       "      <th>4</th>\n",
       "      <td>4</td>\n",
       "      <td>6</td>\n",
       "      <td>2</td>\n",
       "      <td>0</td>\n",
       "      <td>1</td>\n",
       "      <td>{'A': [0], 'B': [1]}</td>\n",
       "    </tr>\n",
       "  </tbody>\n",
       "</table>\n",
       "</div>"
      ],
      "text/plain": [
       "   sim index  completed task count at tick 100  number of people  \\\n",
       "0          0                               131                 2   \n",
       "1          1                               102                 2   \n",
       "2          2                               102                 2   \n",
       "3          3                               155                 2   \n",
       "4          4                                 6                 2   \n",
       "\n",
       "   number of people in contact list  task duration aggregate person skills  \n",
       "0                                 0              1    {'A': [1], 'B': [1]}  \n",
       "1                                 0              1    {'A': [1], 'B': [1]}  \n",
       "2                                 0              1    {'A': [1], 'B': [1]}  \n",
       "3                                 0              1    {'A': [1], 'B': [2]}  \n",
       "4                                 0              1    {'A': [0], 'B': [1]}  "
      ]
     },
     "execution_count": 9,
     "metadata": {},
     "output_type": "execute_result"
    }
   ],
   "source": [
    "df = pandas.DataFrame(list_of_dicts)\n",
    "df.head()"
   ]
  },
  {
   "cell_type": "code",
   "execution_count": 10,
   "id": "9808de9a-8dc2-48a7-bdf4-d8d66b325c5d",
   "metadata": {},
   "outputs": [
    {
     "data": {
      "text/plain": [
       "(234, 6)"
      ]
     },
     "execution_count": 10,
     "metadata": {},
     "output_type": "execute_result"
    }
   ],
   "source": [
    "df.shape"
   ]
  },
  {
   "cell_type": "code",
   "execution_count": 11,
   "id": "93393724-cd9b-4de2-a878-436d6df6ba5c",
   "metadata": {},
   "outputs": [
    {
     "data": {
      "text/plain": [
       "{'A': 1, 'B': 0}"
      ]
     },
     "execution_count": 11,
     "metadata": {},
     "output_type": "execute_result"
    }
   ],
   "source": [
    "list_of_people[0].skill_specialization_dict"
   ]
  },
  {
   "cell_type": "code",
   "execution_count": 12,
   "id": "492e1650-c9b1-4f20-9361-59a32cc62a82",
   "metadata": {},
   "outputs": [
    {
     "data": {
      "text/plain": [
       "Index(['sim index', 'completed task count at tick 100', 'number of people',\n",
       "       'number of people in contact list', 'task duration',\n",
       "       'aggregate person skills'],\n",
       "      dtype='object')"
      ]
     },
     "execution_count": 12,
     "metadata": {},
     "output_type": "execute_result"
    }
   ],
   "source": [
    "df.columns"
   ]
  },
  {
   "cell_type": "code",
   "execution_count": 13,
   "id": "cdfebf34-2611-40db-9d8c-b847925e42f6",
   "metadata": {},
   "outputs": [
    {
     "name": "stderr",
     "output_type": "stream",
     "text": [
      "/tmp/ipykernel_37267/1151452817.py:1: FutureWarning: The default value of numeric_only in DataFrame.max is deprecated. In a future version, it will default to False. In addition, specifying 'numeric_only=None' is deprecated. Select only valid columns or specify the value of numeric_only to silence this warning.\n",
      "  df.max()\n"
     ]
    },
    {
     "data": {
      "text/plain": [
       "sim index                            25\n",
       "completed task count at tick 100    815\n",
       "number of people                     10\n",
       "number of people in contact list      0\n",
       "task duration                         1\n",
       "dtype: int64"
      ]
     },
     "execution_count": 13,
     "metadata": {},
     "output_type": "execute_result"
    }
   ],
   "source": [
    "df.max()"
   ]
  },
  {
   "cell_type": "code",
   "execution_count": 14,
   "id": "4746ab65-0369-4672-92d6-83d5ec10add3",
   "metadata": {},
   "outputs": [
    {
     "data": {
      "image/png": "[encoded data removed]",
      "text/plain": [
       "<Figure size 640x480 with 1 Axes>"
      ]
     },
     "metadata": {},
     "output_type": "display_data"
    }
   ],
   "source": [
    "# https://seaborn.pydata.org/generated/seaborn.stripplot.html\n",
    "seaborn.stripplot(df.loc[(df['number of people in contact list']==0) & (df['task duration']==1)], \n",
    "                  x='number of people', \n",
    "                  y='completed task count at tick '+str(config.max_ticks_to_simulate),\n",
    "                  jitter=True)\n",
    "plt.title(\"specializations \"+str(config.skill_set_for_people)+\n",
    "          \", skill-levels \"+str(list(range(config.max_skill_level_per_person)))+\n",
    "          \"\\nsocial circle size 0\\ntask duration = coordination duration\");\n"
   ]
  },
  {
   "cell_type": "code",
   "execution_count": 15,
   "id": "015a92cb-078d-4110-96ee-b425461383f7",
   "metadata": {},
   "outputs": [
    {
     "data": {
      "image/png": "[encoded data removed]",
      "text/plain": [
       "<Figure size 640x480 with 1 Axes>"
      ]
     },
     "metadata": {},
     "output_type": "display_data"
    }
   ],
   "source": [
    "# https://seaborn.pydata.org/generated/seaborn.stripplot.html\n",
    "seaborn.stripplot(df.loc[(df['number of people in contact list']==0) & (df['task duration']==1)], \n",
    "                  x='number of people', \n",
    "                  y='completed task count at tick '+str(config.max_ticks_to_simulate),\n",
    "                  jitter=True)\n",
    "\n",
    "# https://matplotlib.org/stable/api/_as_gen/matplotlib.pyplot.savefig.html\n",
    "plt.savefig(\"task_distribution_completed_versus_size_simCount\"+str(config.number_of_simulations)+\n",
    "            \"_skills\"+str(len(config.skill_set_for_people))+\n",
    "            \"_levels\"+str(config.max_skill_level_per_person)+\n",
    "            \"_taskduration\"+str(config.max_task_duration_in_ticks)+\n",
    "            \"_people\"+str(config.min_number_of_people)+\n",
    "            \"_social\"+str(config.min_social_circle_size)+\n",
    "            \"_ticks\"+str(config.max_ticks_to_simulate)+\".png\", dpi=300, bbox_inches='tight')\n",
    "plt.savefig(\"task_distribution_completed_versus_size_simCount\"+str(config.number_of_simulations)+\n",
    "            \"_skills\"+str(len(config.skill_set_for_people))+\n",
    "            \"_levels\"+str(config.max_skill_level_per_person)+\n",
    "            \"_taskduration\"+str(config.max_task_duration_in_ticks)+\n",
    "            \"_people\"+str(config.min_number_of_people)+\n",
    "            \"_social\"+str(config.min_social_circle_size)+\n",
    "            \"_ticks\"+str(config.max_ticks_to_simulate)+\".pdf\", bbox_inches='tight')"
   ]
  },
  {
   "cell_type": "code",
   "execution_count": null,
   "id": "7fe36bf3-3707-497a-8fe4-14c38a961893",
   "metadata": {},
   "outputs": [],
   "source": []
  },
  {
   "cell_type": "code",
   "execution_count": null,
   "id": "c583d8ae-0bec-4e02-ac2e-2d6257556869",
   "metadata": {},
   "outputs": [],
   "source": []
  }
 ],
 "metadata": {
  "kernelspec": {
   "display_name": "Python 3 (ipykernel)",
   "language": "python",
   "name": "python3"
  },
  "language_info": {
   "codemirror_mode": {
    "name": "ipython",
    "version": 3
   },
   "file_extension": ".py",
   "mimetype": "text/x-python",
   "name": "python",
   "nbconvert_exporter": "python",
   "pygments_lexer": "ipython3",
   "version": "3.10.8"
  }
 },
 "nbformat": 4,
 "nbformat_minor": 5
}
