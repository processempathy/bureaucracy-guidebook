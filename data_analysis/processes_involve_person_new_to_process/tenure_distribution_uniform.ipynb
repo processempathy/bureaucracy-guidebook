import random
import matplotlib.pyplot as plt
import math
import numpy
print("numpy",numpy.__version__)
import sys
print("Python version", sys.version)

# https://www.bls.gov/news.release/pdf/tenure.pdf
# https://www.ebri.org/docs/default-source/ebri-issue-brief/ebri_ib_474_tenure-28feb19.pdf
max_tenure_in_years = 10
max_tenure_in_days = max_tenure_in_years*365
# for a uniform distribution, the average is then 5 years
number_of_business_days_per_year=260
number_of_people_involved_in_process = 5
number_of_experiments = 100000

list_of_youngest_tenures = [min([random.randint(0,max_tenure_in_days) for _ in range(number_of_people_involved_in_process)]) 
                            for _ in range(number_of_experiments)]

bin_height_y, bin_location_x, _ = plt.hist(list_of_youngest_tenures,bins=20)
plt.plot([numpy.median(list_of_youngest_tenures), numpy.median(list_of_youngest_tenures)], 
         [0, bin_height_y.max()],color='r')
plt.xticks(list(plt.xticks()[0]) + [median]) # https://stackoverflow.com/a/14716726/1164295
plt.xlim([0, max(list_of_youngest_tenures)])
plt.xlabel("tenure [days]")
plt.ylabel("number of people with that tenure");
plt.title("Tenure of youngest member\n"+
          "for process with "+str(number_of_people_involved_in_process)+" participants\n"+
          "assuming uniform distribution of tenure and \n"+
          "max tenure "+str(max_tenure_in_years)+" years")
plt.savefig("tenure_uniform_distribution_with_max_tenure"+
            str(max_tenure_in_years)+"_and_"+
            str(number_of_people_involved_in_process)+" participants")

list_of_youngest_tenures_median = []
max_participant_count=10
for process_participant_count in range(1,max_participant_count):
    list_of_youngest_tenures_median.append(numpy.median(
    [min([random.randint(0,max_tenure_in_days) for _ in range(process_participant_count)]) 
                            for _ in range(number_of_experiments)]))


plt.scatter(range(1,max_participant_count), list_of_youngest_tenures_median)
plt.ylim([0, max(list_of_youngest_tenures_median)*1.1])
plt.xlabel("number of process participants")
plt.ylabel("median tenure of youngest participant")
plt.title("Tenure of youngest member\n"+
          "assuming uniform distribution of tenure and \n"+
          "max tenure "+str(max_tenure_in_years)+" years");
plt.savefig("tenure_uniform_distribution_with_max_tenure"+str(max_tenure_in_years))
