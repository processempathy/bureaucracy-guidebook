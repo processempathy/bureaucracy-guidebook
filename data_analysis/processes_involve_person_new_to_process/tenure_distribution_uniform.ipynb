{
 "cells": [
  {
   "cell_type": "markdown",
   "id": "d594189e-16cb-45bf-9113-a000a67ef9b9",
   "metadata": {},
   "source": [
    "# Tenure distribution, powerlaw"
   ]
  },
  {
   "cell_type": "code",
   "execution_count": null,
   "id": "6c978e26-14a3-4e27-ad07-93514dd48656",
   "metadata": {},
   "outputs": [],
   "source": [
    "import random\n",
    "import matplotlib.pyplot as plt\n",
    "import math\n",
    "import numpy\n",
    "print(\"numpy\",numpy.__version__)\n",
    "import sys\n",
    "print(\"Python version\", sys.version)"
   ]
  },
  {
   "cell_type": "code",
   "execution_count": null,
   "id": "a4427129-0e16-4812-8dbf-6c9640f46edf",
   "metadata": {},
   "outputs": [],
   "source": [
    "# https://www.bls.gov/news.release/pdf/tenure.pdf\n",
    "# https://www.ebri.org/docs/default-source/ebri-issue-brief/ebri_ib_474_tenure-28feb19.pdf\n",
    "max_tenure_in_years = 10\n",
    "max_tenure_in_days = max_tenure_in_years*365\n",
    "# for a uniform distribution, the average is then 5 years\n",
    "number_of_business_days_per_year=260\n",
    "number_of_people_involved_in_process = 5\n",
    "number_of_experiments = 100000"
   ]
  },
  {
   "cell_type": "code",
   "execution_count": null,
   "id": "a82071ab-ead1-4eff-9e84-6e1124547dba",
   "metadata": {},
   "outputs": [],
   "source": [
    "list_of_youngest_tenures = [min([random.randint(0,max_tenure_in_days) for _ in range(number_of_people_involved_in_process)]) \n",
    "                            for _ in range(number_of_experiments)]"
   ]
  },
  {
   "cell_type": "code",
   "execution_count": null,
   "id": "5968286b-7ccf-4b87-ac1a-3c06febad20c",
   "metadata": {},
   "outputs": [],
   "source": [
    "median=numpy.median(list_of_youngest_tenures)\n",
    "\n",
    "print(median)"
   ]
  },
  {
   "cell_type": "code",
   "execution_count": null,
   "id": "616146fd-db7f-4c6c-a85d-579e4e297c27",
   "metadata": {},
   "outputs": [],
   "source": [
    "bin_height_y, bin_location_x, _ = plt.hist(list_of_youngest_tenures,bins=20)\n",
    "\n",
    "plt.plot([median, median], [0, bin_height_y.max()],color='r')\n",
    "\n",
    "# https://stackoverflow.com/a/49097562/1164295\n",
    "y_vals = plt.gca().get_yticks()\n",
    "plt.gca().set_yticklabels(['{:3.0f}'.format(_/1000) for _ in y_vals])  # normalize to population of 100 people\n",
    "\n",
    "text_font_size = 12\n",
    "#plt.xticks(list(plt.xticks()[0]) + [median]) # https://stackoverflow.com/a/14716726/1164295\n",
    "plt.xlim([0, max(list_of_youngest_tenures)])\n",
    "plt.xticks(fontsize=text_font_size)\n",
    "plt.yticks(fontsize=text_font_size)\n",
    "plt.xlabel(\"Tenure [days]\", fontsize=text_font_size)\n",
    "plt.ylabel(\"Number of People with that Tenure\", fontsize=text_font_size);\n",
    "#plt.title(\"Tenure of youngest member\\n\"+\n",
    "#          \"for process with \"+str(number_of_people_involved_in_process)+\" participants\\n\"+\n",
    "#          \"assuming uniform distribution of tenure and \\n\"+\n",
    "#          \"max tenure \"+str(max_tenure_in_years)+\" years\")\n",
    "plt.savefig(\"tenure_uniform_distribution_with_max_tenure\"+\n",
    "            str(max_tenure_in_years)+\"_and_\"+\n",
    "            str(number_of_people_involved_in_process)+\"_participants.png\",\n",
    "            format='png',\n",
    "            dpi=300,\n",
    "            bbox_inches='tight')\n",
    "plt.savefig(\"tenure_uniform_distribution_with_max_tenure\"+\n",
    "            str(max_tenure_in_years)+\"_and_\"+\n",
    "            str(number_of_people_involved_in_process)+\"_participants.pdf\",\n",
    "            format='pdf',\n",
    "            dpi=300,\n",
    "            bbox_inches='tight')\n",
    "plt.savefig(\"tenure_uniform_distribution_with_max_tenure\"+\n",
    "            str(max_tenure_in_years)+\"_and_\"+\n",
    "            str(number_of_people_involved_in_process)+\"_participants.svg\",\n",
    "            format='svg',\n",
    "            dpi=300,\n",
    "            bbox_inches='tight')"
   ]
  },
  {
   "cell_type": "code",
   "execution_count": null,
   "id": "0f9e71d1-9c85-4c38-acd9-8ecfac58c5bd",
   "metadata": {},
   "outputs": [],
   "source": [
    "list_of_youngest_tenures_median = []\n",
    "max_participant_count=10\n",
    "for process_participant_count in range(1,max_participant_count):\n",
    "    list_of_youngest_tenures_median.append(numpy.median(\n",
    "    [min([random.randint(0,max_tenure_in_days) for _ in range(process_participant_count)]) \n",
    "                            for _ in range(number_of_experiments)]))"
   ]
  },
  {
   "cell_type": "code",
   "execution_count": null,
   "id": "a2599033-f386-4e7d-b941-7aaab38329e9",
   "metadata": {},
   "outputs": [],
   "source": [
    "plt.scatter(range(1,max_participant_count), list_of_youngest_tenures_median)\n",
    "plt.xticks(fontsize=text_font_size)\n",
    "plt.yticks(fontsize=text_font_size)\n",
    "plt.ylim([0, max(list_of_youngest_tenures_median)*1.1])\n",
    "plt.xlabel(\"number of process participants\", fontsize=text_font_size)\n",
    "plt.ylabel(\"median tenure in days of youngest participant\", fontsize=text_font_size)\n",
    "#plt.title(\"Tenure of youngest member\\n\"+\n",
    "#          \"assuming uniform distribution of tenure and \\n\"+\n",
    "#          \"max tenure \"+str(max_tenure_in_years)+\" years\");\n",
    "plt.savefig(\"tenure_uniform_distribution_with_max_tenure\"+str(max_tenure_in_years)+\".png\",\n",
    "            format='png',\n",
    "            bbox_inches='tight')\n",
    "plt.savefig(\"tenure_uniform_distribution_with_max_tenure\"+str(max_tenure_in_years)+\".pdf\",\n",
    "            format='pdf',\n",
    "            bbox_inches='tight')\n",
    "plt.savefig(\"tenure_uniform_distribution_with_max_tenure\"+str(max_tenure_in_years)+\".svg\",\n",
    "            format='svg',\n",
    "            bbox_inches='tight')"
   ]
  }
 ],
 "metadata": {
  "kernelspec": {
   "display_name": "Python 3 (ipykernel)",
   "language": "python",
   "name": "python3"
  },
  "language_info": {
   "codemirror_mode": {
    "name": "ipython",
    "version": 3
   },
   "file_extension": ".py",
   "mimetype": "text/x-python",
   "name": "python",
   "nbconvert_exporter": "python",
   "pygments_lexer": "ipython3",
   "version": "3.10.8"
  }
 },
 "nbformat": 4,
 "nbformat_minor": 5
}
