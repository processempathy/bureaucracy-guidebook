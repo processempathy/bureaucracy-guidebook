{
 "cells": [
  {
   "cell_type": "markdown",
   "id": "c8488478-8d14-4e05-9ca9-d00607af01e6",
   "metadata": {},
   "source": [
    "# Tenure distribution, powerlaw"
   ]
  },
  {
   "cell_type": "code",
   "execution_count": null,
   "id": "f265a397-6591-4b20-8c5d-e429ed74400d",
   "metadata": {},
   "outputs": [],
   "source": [
    "import random\n",
    "import matplotlib.pyplot as plt\n",
    "import math\n",
    "import numpy\n",
    "print(\"numpy\",numpy.__version__)\n",
    "import sys\n",
    "print(\"Python version\", sys.version)"
   ]
  },
  {
   "cell_type": "code",
   "execution_count": null,
   "id": "0162ae34-6ade-4cc5-9466-d7b1d1d4ee08",
   "metadata": {},
   "outputs": [],
   "source": [
    "# Set the random seed value so that stochastic processes are repeatable\n",
    "random.seed(10)"
   ]
  },
  {
   "cell_type": "code",
   "execution_count": null,
   "id": "be79b1f6-607c-4223-9cf4-13495913c2fd",
   "metadata": {},
   "outputs": [],
   "source": [
    "# https://www.bls.gov/news.release/pdf/tenure.pdf\n",
    "# https://www.ebri.org/docs/default-source/ebri-issue-brief/ebri_ib_474_tenure-28feb19.pdf\n",
    "max_tenure_in_years = 10\n",
    "max_tenure_in_days = max_tenure_in_years*365\n",
    "# for a uniform distribution, the average is then 5 years\n",
    "number_of_business_days_per_year=260\n",
    "number_of_people_involved_in_process = 5\n",
    "number_of_experiments = 100000\n",
    "\n",
    "a_parameter = 5"
   ]
  },
  {
   "cell_type": "code",
   "execution_count": null,
   "id": "c697e7a4-a7b3-4669-996c-3592e1f1898d",
   "metadata": {},
   "outputs": [],
   "source": [
    "list_of_youngest_tenures = [min((-1*numpy.random.power(a_parameter,number_of_people_involved_in_process)+1)*max_tenure_in_days)\n",
    "for _ in range(number_of_experiments)] "
   ]
  },
  {
   "cell_type": "code",
   "execution_count": null,
   "id": "919c0130-31f2-4efe-b74f-b6adc049221c",
   "metadata": {},
   "outputs": [],
   "source": [
    "bin_height_y, bin_location_x, _ = plt.hist(list_of_youngest_tenures,bins=20)\n",
    "\n",
    "median = numpy.median(list_of_youngest_tenures)\n",
    "\n",
    "plt.plot([median, median], [0, bin_height_y.max()],color='r')\n",
    "\n",
    "# https://stackoverflow.com/a/49097562/1164295\n",
    "y_vals = plt.gca().get_yticks()\n",
    "plt.gca().set_yticklabels(['{:3.0f}'.format(_/1000) for _ in y_vals]) # normalize to population of 100 people\n",
    "\n",
    "text_font_size = 12\n",
    "plt.xticks(list(plt.xticks()[0]) + [median], fontsize=text_font_size) # https://stackoverflow.com/a/14716726/1164295\n",
    "plt.yticks(fontsize=text_font_size)\n",
    "plt.xlim([0, max(list_of_youngest_tenures)])\n",
    "plt.xlabel(\"Tenure [days]\", fontsize=text_font_size)\n",
    "plt.xlim(0, 1000)\n",
    "plt.ylabel(\"Number of People with that Tenure\", fontsize=text_font_size);\n",
    "#plt.title(\"Tenure of youngest member\\n\"+\n",
    "#          \"for process with \"+str(number_of_people_involved_in_process)+\" participants\\n\"+\n",
    "#          \"assuming powerlaw distribution of tenure and \\n\"+\n",
    "#          \"max tenure \"+str(max_tenure_in_years)+\" years\")\n",
    "plt.savefig(\"tenure_power_distribution_a\"+str(a_parameter)+\n",
    "            \"_with_max_tenure\"+str(max_tenure_in_years)+\"_and_\"+\n",
    "            str(number_of_people_involved_in_process)+\"_participants.png\",\n",
    "            format='png',\n",
    "            dpi=300,\n",
    "            bbox_inches='tight')\n",
    "plt.savefig(\"tenure_power_distribution_a\"+str(a_parameter)+\n",
    "            \"_with_max_tenure\"+str(max_tenure_in_years)+\"_and_\"+\n",
    "            str(number_of_people_involved_in_process)+\"_participants.pdf\",\n",
    "            format='pdf',\n",
    "            dpi=300,\n",
    "            bbox_inches='tight')\n",
    "plt.savefig(\"tenure_power_distribution_a\"+str(a_parameter)+\n",
    "            \"_with_max_tenure\"+str(max_tenure_in_years)+\"_and_\"+\n",
    "            str(number_of_people_involved_in_process)+\"_participants.svg\",\n",
    "            format='svg',\n",
    "            dpi=300,\n",
    "            bbox_inches='tight')"
   ]
  },
  {
   "cell_type": "code",
   "execution_count": null,
   "id": "0ce926af-68a4-4985-8ce5-0ef018f216fe",
   "metadata": {},
   "outputs": [],
   "source": [
    "list_of_youngest_tenures_median = []\n",
    "max_participant_count=10\n",
    "for process_participant_count in range(1,max_participant_count):\n",
    "    list_of_youngest_tenures_median.append(numpy.median(\n",
    "    [min((-1*numpy.random.power(a_parameter,process_participant_count)+1)*max_tenure_in_days)\n",
    "       for _ in range(number_of_experiments)]))"
   ]
  },
  {
   "cell_type": "code",
   "execution_count": null,
   "id": "05b4ea9f-5427-4a6f-8774-0f5de83c0b71",
   "metadata": {},
   "outputs": [],
   "source": [
    "plt.scatter(range(1,max_participant_count), list_of_youngest_tenures_median)\n",
    "plt.xticks(fontsize=text_font_size)\n",
    "plt.yticks(fontsize=text_font_size)\n",
    "plt.xlabel(\"number of process participants\", fontsize=text_font_size)\n",
    "plt.ylabel(\"median tenure in days of youngest participant\", fontsize=text_font_size)\n",
    "plt.ylim([0, max(list_of_youngest_tenures_median)*1.1])\n",
    "#plt.title(\"Tenure of youngest member\\n\"+\n",
    "#          \"assuming powerlaw distribution of tenure and \\n\"+\n",
    "#          \"max tenure \"+str(max_tenure_in_years)+\" years\");\n",
    "plt.savefig(\"tenure_power_distribution_a\"+str(a_parameter)+\n",
    "            \"_with_max_tenure\"+str(max_tenure_in_years)+\".png\",\n",
    "            format='png',\n",
    "            dpi=300,\n",
    "            bbox_inches='tight')\n",
    "plt.savefig(\"tenure_power_distribution_a\"+str(a_parameter)+\n",
    "            \"_with_max_tenure\"+str(max_tenure_in_years)+\".pdf\",\n",
    "            format='pdf',\n",
    "            dpi=300,\n",
    "            bbox_inches='tight')\n",
    "plt.savefig(\"tenure_power_distribution_a\"+str(a_parameter)+\n",
    "            \"_with_max_tenure\"+str(max_tenure_in_years)+\".svg\",\n",
    "            format='svg',\n",
    "            dpi=300,\n",
    "            bbox_inches='tight')\n"
   ]
  },
  {
   "cell_type": "code",
   "execution_count": null,
   "id": "f04b93b2-6762-4c5d-80c8-d7ce7c4b4f67",
   "metadata": {},
   "outputs": [],
   "source": []
  }
 ],
 "metadata": {
  "kernelspec": {
   "display_name": "Python 3 (ipykernel)",
   "language": "python",
   "name": "python3"
  },
  "language_info": {
   "codemirror_mode": {
    "name": "ipython",
    "version": 3
   },
   "file_extension": ".py",
   "mimetype": "text/x-python",
   "name": "python",
   "nbconvert_exporter": "python",
   "pygments_lexer": "ipython3",
   "version": "3.10.8"
  }
 },
 "nbformat": 4,
 "nbformat_minor": 5
}
