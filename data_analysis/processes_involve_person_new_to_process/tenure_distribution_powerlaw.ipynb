import random
import matplotlib.pyplot as plt
import math
import numpy
print("numpy",numpy.__version__)
import sys
print("Python version", sys.version)

# https://www.bls.gov/news.release/pdf/tenure.pdf
# https://www.ebri.org/docs/default-source/ebri-issue-brief/ebri_ib_474_tenure-28feb19.pdf
max_tenure_in_years = 10
max_tenure_in_days = max_tenure_in_years*365
# for a uniform distribution, the average is then 5 years
number_of_business_days_per_year=260
number_of_people_involved_in_process = 5
number_of_experiments = 100000

a_parameter = 5

list_of_youngest_tenures = [min((-1*numpy.random.power(a_parameter,number_of_people_involved_in_process)+1)*max_tenure_in_days)
for _ in range(number_of_experiments)]                            

bin_height_y, bin_location_x, _ = plt.hist(list_of_youngest_tenures,bins=20)
plt.plot([numpy.median(list_of_youngest_tenures), numpy.median(list_of_youngest_tenures)], [0, bin_height_y.max()],color='r')
plt.xticks(list(plt.xticks()[0]) + [median]) # https://stackoverflow.com/a/14716726/1164295
plt.xlim([0, max(list_of_youngest_tenures)])
plt.xlabel("tenure [days]")
plt.ylabel("number of people with that tenure");
plt.title("Tenure of youngest member\n"+
          "for process with "+str(number_of_people_involved_in_process)+" participants\n"+
          "assuming powerlaw distribution of tenure and \n"+
          "max tenure "+str(max_tenure_in_years)+" years")
plt.savefig("tenure_power_distribution_a"+str(a_parameter)+
            "_with_max_tenure"+str(max_tenure_in_years)+"_and_"+
            str(number_of_people_involved_in_process)+" participants")

list_of_youngest_tenures_median = []
for process_participant_count in range(1,max_participant_count):
    list_of_youngest_tenures_median.append(numpy.median(
    [min((-1*numpy.random.power(a_parameter,process_participant_count)+1)*max_tenure_in_days)
       for _ in range(number_of_experiments)]))

plt.scatter(range(1,max_participant_count), list_of_youngest_tenures_median)
plt.xlabel("number of process participants")
plt.ylabel("median tenure of youngest participant")
plt.ylim([0, max(list_of_youngest_tenures_median)*1.1])
plt.title("Tenure of youngest member\n"+
          "assuming powerlaw distribution of tenure and \n"+
          "max tenure "+str(max_tenure_in_years)+" years");
plt.savefig("tenure_power_distribution_a"+str(a_parameter)+
            "_with_max_tenure"+str(max_tenure_in_years))
